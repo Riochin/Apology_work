{
 "cells": [
  {
   "cell_type": "markdown",
   "metadata": {
    "cell_id": "85b2564897e444cb9ebdbc617a89eacb",
    "deepnote_cell_type": "text-cell-h1",
    "formattedRanges": []
   },
   "source": [
    "# 1.　ngrokのauth_tokeを設定して前回の内容を実行[事前準備、設定]"
   ]
  },
  {
   "cell_type": "code",
   "execution_count": 1,
   "metadata": {
    "cell_id": "0050989037a8492d8a20fb5ab4e01639",
    "colab": {
     "base_uri": "https://localhost:8080/"
    },
    "deepnote_cell_type": "code",
    "execution_context_id": "a2fb3eea-709c-4861-b714-fc7371c7fd7b",
    "execution_millis": 6671,
    "execution_start": 1736246115530,
    "id": "mJxNWy4zN7wm",
    "outputId": "ed4ea1e1-47a8-43f8-889e-b929857ca40a",
    "source_hash": "f523e944"
   },
   "outputs": [
    {
     "name": "stdout",
     "output_type": "stream",
     "text": [
      "Requirement already satisfied: pip in /root/venv/lib/python3.9/site-packages (24.3.1)\n",
      "Requirement already satisfied: flask in /root/venv/lib/python3.9/site-packages (3.1.0)\n",
      "Requirement already satisfied: pyngrok in /root/venv/lib/python3.9/site-packages (7.2.2)\n",
      "Requirement already satisfied: Werkzeug>=3.1 in /root/venv/lib/python3.9/site-packages (from flask) (3.1.3)\n",
      "Requirement already satisfied: Jinja2>=3.1.2 in /shared-libs/python3.9/py-core/lib/python3.9/site-packages (from flask) (3.1.2)\n",
      "Requirement already satisfied: itsdangerous>=2.2 in /root/venv/lib/python3.9/site-packages (from flask) (2.2.0)\n",
      "Requirement already satisfied: click>=8.1.3 in /shared-libs/python3.9/py/lib/python3.9/site-packages (from flask) (8.1.3)\n",
      "Requirement already satisfied: blinker>=1.9 in /root/venv/lib/python3.9/site-packages (from flask) (1.9.0)\n",
      "Requirement already satisfied: importlib-metadata>=3.6 in /shared-libs/python3.9/py/lib/python3.9/site-packages (from flask) (5.0.0)\n",
      "Requirement already satisfied: PyYAML>=5.1 in /root/venv/lib/python3.9/site-packages (from pyngrok) (6.0.2)\n",
      "Requirement already satisfied: zipp>=0.5 in /shared-libs/python3.9/py/lib/python3.9/site-packages (from importlib-metadata>=3.6->flask) (3.9.0)\n",
      "Requirement already satisfied: MarkupSafe>=2.0 in /shared-libs/python3.9/py-core/lib/python3.9/site-packages (from Jinja2>=3.1.2->flask) (2.0.0)\n",
      "Collecting MarkupSafe>=2.0 (from Jinja2>=3.1.2->flask)\n",
      "  Using cached MarkupSafe-3.0.2-cp39-cp39-manylinux_2_17_x86_64.manylinux2014_x86_64.whl.metadata (4.0 kB)\n",
      "Using cached MarkupSafe-3.0.2-cp39-cp39-manylinux_2_17_x86_64.manylinux2014_x86_64.whl (20 kB)\n",
      "Installing collected packages: MarkupSafe\n",
      "  Attempting uninstall: MarkupSafe\n",
      "    Found existing installation: MarkupSafe 2.0.0\n",
      "    Not uninstalling markupsafe at /shared-libs/python3.9/py-core/lib/python3.9/site-packages, outside environment /root/venv\n",
      "    Can't uninstall 'MarkupSafe'. No files were found to uninstall.\n",
      "Successfully installed MarkupSafe-3.0.2\n"
     ]
    }
   ],
   "source": [
    "#@title #1.　ngrokのauth_tokeを設定して前回の内容を実行[事前準備、設定]\n",
    "\n",
    "!pip install --upgrade pip #12/27 21:46追加\n",
    "\n",
    "# 1,2 Flask, pyngrokのインストール\n",
    "!pip install flask pyngrok\n",
    "#  必要なモジュールのimport\n",
    "import os\n",
    "# flaskからFlaskクラスをインポート\n",
    "from flask import Flask\n",
    "# pyngrokからngrokモジュールとconfモジュールをインポート\n",
    "from pyngrok import ngrok, conf\n",
    "# 設定\n",
    "# ngrokトークンを設定\n",
    "conf.get_default().auth_token = \"\" #ここに自分のNgrokトークンを入れてください！！！！！\n"
   ]
  },
  {
   "cell_type": "markdown",
   "metadata": {
    "cell_id": "aea0b16282fa4f3c883ea04b7528c271",
    "deepnote_cell_type": "text-cell-h2",
    "formattedRanges": []
   },
   "source": [
    "## 1-2 Flask-SQLAlchemyのインストール"
   ]
  },
  {
   "cell_type": "code",
   "execution_count": 2,
   "metadata": {
    "cell_id": "61ad06519fcb4071b2c025bcd7592b1d",
    "colab": {
     "base_uri": "https://localhost:8080/"
    },
    "deepnote_cell_type": "code",
    "execution_context_id": "a2fb3eea-709c-4861-b714-fc7371c7fd7b",
    "execution_millis": 3807,
    "execution_start": 1736246122246,
    "id": "F88Oqz7PERzS",
    "outputId": "c85cfbed-551e-479b-cd4a-53a3104919f3",
    "source_hash": "aea12849"
   },
   "outputs": [
    {
     "name": "stdout",
     "output_type": "stream",
     "text": [
      "Requirement already satisfied: flask-sqlalchemy in /root/venv/lib/python3.9/site-packages (3.1.1)\n",
      "Requirement already satisfied: flask>=2.2.5 in /root/venv/lib/python3.9/site-packages (from flask-sqlalchemy) (3.1.0)\n",
      "Requirement already satisfied: sqlalchemy>=2.0.16 in /root/venv/lib/python3.9/site-packages (from flask-sqlalchemy) (2.0.36)\n",
      "Requirement already satisfied: Werkzeug>=3.1 in /root/venv/lib/python3.9/site-packages (from flask>=2.2.5->flask-sqlalchemy) (3.1.3)\n",
      "Requirement already satisfied: Jinja2>=3.1.2 in /shared-libs/python3.9/py-core/lib/python3.9/site-packages (from flask>=2.2.5->flask-sqlalchemy) (3.1.2)\n",
      "Requirement already satisfied: itsdangerous>=2.2 in /root/venv/lib/python3.9/site-packages (from flask>=2.2.5->flask-sqlalchemy) (2.2.0)\n",
      "Requirement already satisfied: click>=8.1.3 in /shared-libs/python3.9/py/lib/python3.9/site-packages (from flask>=2.2.5->flask-sqlalchemy) (8.1.3)\n",
      "Requirement already satisfied: blinker>=1.9 in /root/venv/lib/python3.9/site-packages (from flask>=2.2.5->flask-sqlalchemy) (1.9.0)\n",
      "Requirement already satisfied: importlib-metadata>=3.6 in /shared-libs/python3.9/py/lib/python3.9/site-packages (from flask>=2.2.5->flask-sqlalchemy) (5.0.0)\n",
      "Requirement already satisfied: typing-extensions>=4.6.0 in /root/venv/lib/python3.9/site-packages (from sqlalchemy>=2.0.16->flask-sqlalchemy) (4.12.2)\n",
      "Requirement already satisfied: greenlet!=0.4.17 in /shared-libs/python3.9/py/lib/python3.9/site-packages (from sqlalchemy>=2.0.16->flask-sqlalchemy) (1.1.3.post0)\n",
      "Requirement already satisfied: zipp>=0.5 in /shared-libs/python3.9/py/lib/python3.9/site-packages (from importlib-metadata>=3.6->flask>=2.2.5->flask-sqlalchemy) (3.9.0)\n",
      "Requirement already satisfied: MarkupSafe>=2.0 in /shared-libs/python3.9/py-core/lib/python3.9/site-packages (from Jinja2>=3.1.2->flask>=2.2.5->flask-sqlalchemy) (2.0.0)\n",
      "Collecting MarkupSafe>=2.0 (from Jinja2>=3.1.2->flask>=2.2.5->flask-sqlalchemy)\n",
      "  Using cached MarkupSafe-3.0.2-cp39-cp39-manylinux_2_17_x86_64.manylinux2014_x86_64.whl.metadata (4.0 kB)\n",
      "Using cached MarkupSafe-3.0.2-cp39-cp39-manylinux_2_17_x86_64.manylinux2014_x86_64.whl (20 kB)\n",
      "Installing collected packages: MarkupSafe\n",
      "  Attempting uninstall: MarkupSafe\n",
      "    Found existing installation: MarkupSafe 2.0.0\n",
      "    Not uninstalling markupsafe at /shared-libs/python3.9/py-core/lib/python3.9/site-packages, outside environment /root/venv\n",
      "    Can't uninstall 'MarkupSafe'. No files were found to uninstall.\n",
      "Successfully installed MarkupSafe-3.0.2\n"
     ]
    }
   ],
   "source": [
    "# @title 1-2 Flask-SQLAlchemyのインストール\n",
    "!pip install --upgrade flask-sqlalchemy #12/27 21:46追加"
   ]
  },
  {
   "cell_type": "markdown",
   "metadata": {
    "cell_id": "034e20a1031341a781fe7f9cb5d915a5",
    "deepnote_cell_type": "text-cell-h2",
    "formattedRanges": []
   },
   "source": [
    "## 1-3 OpenAIライブラリのインストール"
   ]
  },
  {
   "cell_type": "code",
   "execution_count": 3,
   "metadata": {
    "cell_id": "2db1ae2967eb475e8fb2149ac69e1556",
    "colab": {
     "base_uri": "https://localhost:8080/"
    },
    "deepnote_cell_type": "code",
    "execution_context_id": "a2fb3eea-709c-4861-b714-fc7371c7fd7b",
    "execution_millis": 3272,
    "execution_start": 1736246126118,
    "id": "kzf9gmtDx9CO",
    "outputId": "8edcbc52-6e7d-41c6-fe6d-101678177b45",
    "source_hash": "df8fc189"
   },
   "outputs": [
    {
     "name": "stdout",
     "output_type": "stream",
     "text": [
      "Requirement already satisfied: openai==1.55.3 in /root/venv/lib/python3.9/site-packages (1.55.3)\n",
      "Requirement already satisfied: httpx==0.27.2 in /root/venv/lib/python3.9/site-packages (0.27.2)\n",
      "Collecting anyio==3.7.0\n",
      "  Using cached anyio-3.7.0-py3-none-any.whl.metadata (4.7 kB)\n",
      "Requirement already satisfied: distro<2,>=1.7.0 in /root/venv/lib/python3.9/site-packages (from openai==1.55.3) (1.9.0)\n",
      "Requirement already satisfied: jiter<1,>=0.4.0 in /root/venv/lib/python3.9/site-packages (from openai==1.55.3) (0.8.2)\n",
      "Requirement already satisfied: pydantic<3,>=1.9.0 in /shared-libs/python3.9/py/lib/python3.9/site-packages (from openai==1.55.3) (1.10.2)\n",
      "Requirement already satisfied: sniffio in /shared-libs/python3.9/py-core/lib/python3.9/site-packages (from openai==1.55.3) (1.3.0)\n",
      "Requirement already satisfied: tqdm>4 in /shared-libs/python3.9/py/lib/python3.9/site-packages (from openai==1.55.3) (4.64.1)\n",
      "Requirement already satisfied: typing-extensions<5,>=4.11 in /root/venv/lib/python3.9/site-packages (from openai==1.55.3) (4.12.2)\n",
      "Requirement already satisfied: certifi in /shared-libs/python3.9/py/lib/python3.9/site-packages (from httpx==0.27.2) (2022.9.24)\n",
      "Requirement already satisfied: httpcore==1.* in /root/venv/lib/python3.9/site-packages (from httpx==0.27.2) (1.0.7)\n",
      "Requirement already satisfied: idna in /shared-libs/python3.9/py-core/lib/python3.9/site-packages (from httpx==0.27.2) (3.4)\n",
      "Requirement already satisfied: exceptiongroup in /root/venv/lib/python3.9/site-packages (from anyio==3.7.0) (1.2.2)\n",
      "Requirement already satisfied: h11<0.15,>=0.13 in /root/venv/lib/python3.9/site-packages (from httpcore==1.*->httpx==0.27.2) (0.14.0)\n",
      "Using cached anyio-3.7.0-py3-none-any.whl (80 kB)\n",
      "Installing collected packages: anyio\n",
      "  Attempting uninstall: anyio\n",
      "    Found existing installation: anyio 3.6.2\n",
      "    Not uninstalling anyio at /shared-libs/python3.9/py-core/lib/python3.9/site-packages, outside environment /root/venv\n",
      "    Can't uninstall 'anyio'. No files were found to uninstall.\n",
      "Successfully installed anyio-3.7.0\n"
     ]
    }
   ],
   "source": [
    "# @title #1-3 OpenAIライブラリのインストール\n",
    "# https://platform.openai.com/docs/api-reference/introduction\n",
    "!pip install openai==1.55.3 httpx==0.27.2 anyio==3.7.0 "
   ]
  },
  {
   "cell_type": "markdown",
   "metadata": {
    "cell_id": "83fa7ba6e43a4af1bef7aeb4e2713dca",
    "deepnote_cell_type": "text-cell-h2",
    "formattedRanges": []
   },
   "source": [
    "## 4.アプリケーションを初期化する"
   ]
  },
  {
   "cell_type": "code",
   "execution_count": 4,
   "metadata": {
    "cell_id": "c0d6934804e643338855771f78d11a07",
    "deepnote_cell_type": "code",
    "execution_context_id": "a2fb3eea-709c-4861-b714-fc7371c7fd7b",
    "execution_millis": 0,
    "execution_start": 1736246129446,
    "id": "aE9kOv0_EfsF",
    "source_hash": "baf1007d"
   },
   "outputs": [],
   "source": [
    "#@title　#4.アプリケーションを初期化する\n",
    "\n",
    "from flask import g, render_template\n",
    "\n",
    "# テンプレートと静的ファイルの置き場所を定数に代入\n",
    "TEMPLATE_PATH = 'flask_blog/templates'\n",
    "STATIC_PATH = 'flask_blog/static'\n",
    "# Flaskのインスタンスを作るときにそれを利用してファイルパスを設定する\n",
    "app = Flask(__name__, template_folder=TEMPLATE_PATH, static_folder=STATIC_PATH)"
   ]
  },
  {
   "cell_type": "markdown",
   "metadata": {
    "cell_id": "027de12edfcc4446abe0d072a2ad852a",
    "deepnote_cell_type": "text-cell-h2",
    "formattedRanges": []
   },
   "source": [
    "## 5.Flask-SQLAlcyemyをアプリに設定をする"
   ]
  },
  {
   "cell_type": "code",
   "execution_count": 5,
   "metadata": {
    "cell_id": "24453d8cc2da4c978c1ee460fd2dbdaf",
    "deepnote_cell_type": "code",
    "execution_context_id": "a2fb3eea-709c-4861-b714-fc7371c7fd7b",
    "execution_millis": 532,
    "execution_start": 1736246129510,
    "id": "YEBaUCzqEhLB",
    "source_hash": "34b564b5"
   },
   "outputs": [],
   "source": [
    "#@title　#5.Flask-SQLAlcyemyをアプリに設定をする\n",
    "\n",
    "from flask_sqlalchemy import SQLAlchemy\n",
    "from sqlalchemy.orm import DeclarativeBase\n",
    "\n",
    "class Base(DeclarativeBase):\n",
    "  pass #これは何にもしないと言う意味\n",
    "\n",
    "# SQLAlchemyをインスタンス化\n",
    "db = SQLAlchemy(model_class=Base)\n",
    "\n",
    "# SQLiteデータベースをappに設定する\n",
    "app.config[\"SQLALCHEMY_DATABASE_URI\"] = \"sqlite:///sample_db.sqlite\"\n",
    "#  appを拡張とともに初期化\n",
    "db.init_app(app)"
   ]
  },
  {
   "cell_type": "markdown",
   "metadata": {
    "cell_id": "341ec0fbc94d45e6a59a731719702c72",
    "deepnote_cell_type": "text-cell-h2",
    "formattedRanges": []
   },
   "source": [
    "## ⛄6-1-1. Tagモデル, Post_Tagテーブル（中間テーブル）を作る"
   ]
  },
  {
   "cell_type": "code",
   "execution_count": 6,
   "metadata": {
    "cell_id": "96c5344b293e47f6b36de5133af66377",
    "deepnote_cell_type": "code",
    "execution_context_id": "a2fb3eea-709c-4861-b714-fc7371c7fd7b",
    "execution_millis": 0,
    "execution_start": 1736246130091,
    "id": "Z12gcZosYWJY",
    "source_hash": "72321620"
   },
   "outputs": [],
   "source": [
    "#@title　#7. Tagモデル, Blog_Tagテーブル（中間テーブル）を作る\n",
    "from __future__ import annotations\n",
    "from sqlalchemy import Table\n",
    "from sqlalchemy import ForeignKey\n",
    "from sqlalchemy import Column\n",
    "from sqlalchemy.orm import relationship\n",
    "from sqlalchemy import  DateTime, Integer, String\n",
    "from sqlalchemy.orm import Mapped, mapped_column, validates\n",
    "\n",
    "post_tag_table = Table(\n",
    "    \"post_tag\",\n",
    "    Base.metadata,\n",
    "    Column(\"post_id\", ForeignKey(\"post.id\"), primary_key=True),\n",
    "    Column(\"tag_id\", ForeignKey(\"tag.id\"), primary_key=True),\n",
    ")\n",
    "\n",
    "class Tag(db.Model):\n",
    "    __tablename__ = \"tag\"\n",
    "    id: Mapped[int] = mapped_column(primary_key=True)\n",
    "    name: Mapped[str] = mapped_column(nullable=False, unique=True)\n",
    "    created_at: Mapped[int] = db.Column(db.DateTime(timezone=True))\n",
    "    posts: Mapped[list[Post]] = relationship(\n",
    "        \"Post\",\n",
    "        secondary=post_tag_table,  # 正しい中間テーブルを指定\n",
    "        back_populates=\"tags\"\n",
    "    )\n",
    "\n",
    "    @validates(\"name\")\n",
    "    def validate_existance(self, key, value):\n",
    "        if not value:\n",
    "            raise ValueError(key)\n",
    "\n",
    "        return value\n",
    "    def to_json(self):\n",
    "        return {\n",
    "            \"id\": self.id,\n",
    "            \"name\": self.name\n",
    "        }\n",
    "\n"
   ]
  },
  {
   "cell_type": "markdown",
   "metadata": {
    "cell_id": "2a3bfa9398764fd9a5c94a80e0081b00",
    "deepnote_cell_type": "text-cell-h2",
    "formattedRanges": []
   },
   "source": [
    "## ⛄️6-1-2. Addressモデル, User_Addressテーブル（中間テーブル）を作る"
   ]
  },
  {
   "cell_type": "code",
   "execution_count": 7,
   "metadata": {
    "cell_id": "11edd7f239c6474eb99822f35602fce7",
    "deepnote_cell_type": "code",
    "execution_context_id": "a2fb3eea-709c-4861-b714-fc7371c7fd7b",
    "execution_millis": 1,
    "execution_start": 1736246130146,
    "id": "Z12gcZosYWJY",
    "source_hash": "86ef6ea1"
   },
   "outputs": [],
   "source": [
    "#@title　#7. Addressモデル, User_Addressテーブル（中間テーブル）を作る\n",
    "from __future__ import annotations\n",
    "from sqlalchemy import Table\n",
    "from sqlalchemy import ForeignKey\n",
    "from sqlalchemy import Column\n",
    "from sqlalchemy.orm import relationship\n",
    "from sqlalchemy import  DateTime, Integer, String\n",
    "from sqlalchemy.orm import Mapped, mapped_column, validates\n",
    "\n",
    "association_table = Table(\n",
    "    \"User_Address\",\n",
    "    Base.metadata,\n",
    "    Column(\"user_id\", ForeignKey(\"user.id\")),\n",
    "    Column(\"address_id\", ForeignKey(\"address.id\")),\n",
    ")\n",
    "\n",
    "class Address(db.Model):\n",
    "    id: Mapped[int] = mapped_column(primary_key=True)\n",
    "    name: Mapped[str] = mapped_column(nullable=False, unique=True)\n",
    "    created_at: Mapped[int] = db.Column(db.DateTime(timezone=True))\n",
    "\n",
    "    #ここにブログの関連\n",
    "    users: Mapped[list[User]] = relationship(secondary=association_table)  #adress -> User\n",
    "\n",
    "    @validates(\"name\")\n",
    "    def validate_existance(self, key, value):\n",
    "        if not value:\n",
    "            raise ValueError(key)\n",
    "\n",
    "        return value\n",
    "    def to_json(self):\n",
    "        return {\n",
    "            \"id\": self.id,\n",
    "            \"name\": self.name\n",
    "        }\n",
    "\n"
   ]
  },
  {
   "cell_type": "markdown",
   "metadata": {
    "cell_id": "b65d9b3b685546c5b210d4b971c9e710",
    "deepnote_cell_type": "text-cell-h2",
    "formattedRanges": []
   },
   "source": [
    "## ⛄️6-4.  Userモデルを作る"
   ]
  },
  {
   "cell_type": "code",
   "execution_count": 8,
   "metadata": {
    "cell_id": "547cf05fd3f84098b62a4b3104065486",
    "deepnote_cell_type": "code",
    "execution_context_id": "a2fb3eea-709c-4861-b714-fc7371c7fd7b",
    "execution_millis": 1,
    "execution_start": 1736246130202,
    "id": "fE-8jbiH79VG",
    "source_hash": "87eb73f7"
   },
   "outputs": [],
   "source": [
    "#@title　#6. Userモデルを作る\n",
    "class User(db.Model):\n",
    "    id: Mapped[int] = mapped_column(primary_key=True)\n",
    "    user_name: Mapped[str] = mapped_column(nullable=False)\n",
    "    mail:Mapped[str] = mapped_column(nullable=False)\n",
    "    pass_word:Mapped[str] = mapped_column(nullable=False)\n",
    "    created_at: Mapped[int] = db.Column(db.DateTime(timezone=True))\n",
    "\n",
    "    @validates(\"blog_id\", \"body\", \"user_name\")\n",
    "    def validate_existance(self, key, value):\n",
    "        if not value:\n",
    "            raise ValueError(key)\n",
    "\n",
    "        return value"
   ]
  },
  {
   "cell_type": "markdown",
   "metadata": {
    "cell_id": "3ecfc2082aab472fa8fd54c39af9c5fa",
    "deepnote_cell_type": "text-cell-h2",
    "formattedRanges": []
   },
   "source": [
    "## 6-2. Postモデルを作る"
   ]
  },
  {
   "cell_type": "code",
   "execution_count": 9,
   "metadata": {
    "cell_id": "25e4e52b9cbe40b690ca96b6611b8e82",
    "deepnote_cell_type": "code",
    "execution_context_id": "a2fb3eea-709c-4861-b714-fc7371c7fd7b",
    "execution_millis": 0,
    "execution_start": 1736246130250,
    "id": "R4xKYcr5FAq-",
    "source_hash": "90f485fa"
   },
   "outputs": [],
   "source": [
    "#@title　#6. Postモデルを作る\n",
    "\n",
    "class Post(db.Model):\n",
    "    __tablename__ = \"post\"\n",
    "    id: Mapped[int] = mapped_column(primary_key=True)\n",
    "    user_id: Mapped[int]  = mapped_column(db.ForeignKey(User.id))\n",
    "    title: Mapped[str]  = mapped_column(nullable=False)\n",
    "    body: Mapped[str] = mapped_column(nullable=False)\n",
    "    user_name: Mapped[str] = mapped_column(nullable=False)\n",
    "    created_at: Mapped[int] = db.Column(db.DateTime(timezone=True))\n",
    "    address:Mapped[str] = mapped_column(nullable=False)\n",
    "    memo:Mapped[str] = mapped_column(nullable=True)\n",
    "    likes:Mapped[int] = mapped_column(nullable=False, default=0)\n",
    "    private:Mapped[bool] = mapped_column(nullable=False, default=False)\n",
    "    tags: Mapped[list[Tag]] = relationship(\n",
    "        \"Tag\",\n",
    "        secondary=post_tag_table,  # 正しい中間テーブルを指定\n",
    "        back_populates=\"posts\"\n",
    "    )\n",
    "\n",
    "    # https://docs.sqlalchemy.org/en/20/orm/mapped_attributes.html#simple-validators\n",
    "    @validates(\"title\", \"body\", \"user_name\")\n",
    "    def validate_existance(self, key, value):\n",
    "        if not value:\n",
    "            raise ValueError(key)\n",
    "\n",
    "        return value"
   ]
  },
  {
   "cell_type": "markdown",
   "metadata": {
    "cell_id": "8f932e990d1a4fa4b6ca3433e59de246",
    "deepnote_cell_type": "text-cell-h2",
    "formattedRanges": []
   },
   "source": [
    "## 7. モデルをもとにテーブルを作成する"
   ]
  },
  {
   "cell_type": "code",
   "execution_count": 10,
   "metadata": {
    "cell_id": "2f35dacc5d534ce1bb63945f28968fd8",
    "deepnote_cell_type": "code",
    "execution_context_id": "a2fb3eea-709c-4861-b714-fc7371c7fd7b",
    "execution_millis": 0,
    "execution_start": 1736246130298,
    "id": "WzyKxyK2Wupx",
    "source_hash": "91e68842"
   },
   "outputs": [],
   "source": [
    "#@title #7.モデルをもとにテーブルを作成する\n",
    "\n",
    "# アプリケーションが実行されるコンテキスト内で行うという指定のwith\n",
    "with app.app_context():\n",
    "  # db.drop_all() # 今まで作成したテーブルを一度すべて消す。6でBlogモデルに変更を加えてない場合は不要\n",
    "  #  テーブルを作成\n",
    "  db.create_all()"
   ]
  },
  {
   "cell_type": "markdown",
   "metadata": {
    "cell_id": "4c489215c4b443dc9649857f9c96214c",
    "deepnote_cell_type": "text-cell-h2",
    "formattedRanges": []
   },
   "source": [
    "## 8-1. タグテーブルにデータを入れる"
   ]
  },
  {
   "cell_type": "code",
   "execution_count": 11,
   "metadata": {
    "cell_id": "56f3aae229c142469b94cd7a574a48e6",
    "colab": {
     "base_uri": "https://localhost:8080/"
    },
    "deepnote_cell_type": "code",
    "execution_context_id": "a2fb3eea-709c-4861-b714-fc7371c7fd7b",
    "execution_millis": 1,
    "execution_start": 1736246130349,
    "id": "mhSwioxMDlCu",
    "outputId": "909e7bd5-cd86-488a-dc3b-640479641fa5",
    "source_hash": "c5955aeb"
   },
   "outputs": [],
   "source": [
    "# #@title #8. タグテーブルにデータを入れる\n",
    "\n",
    "# from sqlalchemy import delete\n",
    "# with app.app_context():\n",
    "#     db.session.execute(db.delete(Tag)) # 同じデータが作られるのを防ぐために一度全部消す\n",
    "#     for name in [\"日記\", \"ガラスペン\", \"文房具\"]:#なるほど\n",
    "#         tag = Tag(name=name)\n",
    "#         db.session.add(tag)\n",
    "#         db.session.commit()"
   ]
  },
  {
   "cell_type": "markdown",
   "metadata": {
    "cell_id": "bfa1ed17d31b402da72b550e0a12287a",
    "deepnote_cell_type": "text-cell-h2",
    "formattedRanges": []
   },
   "source": [
    "## 8-2. アドレステーブルにデータを入れる"
   ]
  },
  {
   "cell_type": "code",
   "execution_count": 12,
   "metadata": {
    "cell_id": "15d16adbf2794ab7af1f72991cc77698",
    "deepnote_cell_type": "code",
    "execution_context_id": "a2fb3eea-709c-4861-b714-fc7371c7fd7b",
    "execution_millis": 1,
    "execution_start": 1736246130398,
    "source_hash": "8200d407"
   },
   "outputs": [],
   "source": [
    "# #@title #8. アドレステーブルにデータを入れる\n",
    "\n",
    "# from sqlalchemy import delete\n",
    "# with app.app_context():\n",
    "#     db.session.execute(db.delete((Address))) # 同じデータが作られるのを防ぐために一度全部消す\n",
    "#     for name in [\"日記\", \"ガラスペン\", \"文房具\"]:#なるほど\n",
    "#         address = Address(name=name)\n",
    "#         db.session.add(tag)\n",
    "#         db.session.commit()"
   ]
  },
  {
   "cell_type": "markdown",
   "metadata": {
    "cell_id": "c7a0a24079904a23992c939533618262",
    "deepnote_cell_type": "text-cell-h2",
    "formattedRanges": []
   },
   "source": [
    "## 8-2. Postテーブルにデータを入れる"
   ]
  },
  {
   "cell_type": "code",
   "execution_count": 13,
   "metadata": {
    "cell_id": "fc2edbd19f40446786ea184b225f1938",
    "deepnote_cell_type": "code",
    "execution_context_id": "a2fb3eea-709c-4861-b714-fc7371c7fd7b",
    "execution_millis": 0,
    "execution_start": 1736246130451,
    "source_hash": "9306766"
   },
   "outputs": [],
   "source": [
    "# #@title #8. アドレステーブルにデータを入れる\n",
    "\n",
    "# from sqlalchemy import delete\n",
    "# with app.app_context():\n",
    "#     db.session.execute(db.delete((Address))) # 同じデータが作られるのを防ぐために一度全部消す\n",
    "# 適切なデータを挿入する関数\n",
    "def insert_sample_data(session: Session):\n",
    "    # サンプルデータ\n",
    "    posts = [\n",
    "        {\n",
    "            \"user_id\": 1,\n",
    "            \"title\": \"My First Blog Post\",\n",
    "            \"body\": \"This is the body of my first blog post.\",\n",
    "            \"user_name\": \"Alice\",\n",
    "            \"created_at\": datetime.utcnow(),\n",
    "            \"address\": \"123 Main St, Springfield\",\n",
    "            \"memo\": \"First post, feeling excited!\",\n",
    "            \"likes\": 10,\n",
    "            \"private\": False\n",
    "        },\n",
    "    ]\n",
    "\n",
    "    # データベースに挿入\n",
    "    for post_data in posts:\n",
    "        post = Post(**post_data)  # Post クラスをインスタンス化\n",
    "        session.add(post)\n",
    "\n",
    "    # コミットしてデータを保存\n",
    "    session.commit()\n",
    "    print(\"Sample data inserted successfully.\")\n",
    "\n",
    "# insert_sample_data(db.session)"
   ]
  },
  {
   "cell_type": "markdown",
   "metadata": {
    "cell_id": "03aea2c5651b46eab4ed9406faaa5c2d",
    "deepnote_cell_type": "text-cell-h2",
    "formattedRanges": []
   },
   "source": [
    "## 9. アプリケーションでデータを読み出す+テンプレートにデータを渡すプログラミング"
   ]
  },
  {
   "cell_type": "markdown",
   "metadata": {
    "cell_id": "a142a3c85b724e489aa3ae9546f4d6fb",
    "deepnote_cell_type": "text-cell-h3",
    "formattedRanges": []
   },
   "source": [
    "### ⛄9-1. ルート/, GET /blogs 一覧画面（フォーム付き）, POST /blogs データ作成機能"
   ]
  },
  {
   "cell_type": "code",
   "execution_count": 14,
   "metadata": {
    "cell_id": "d16c701d3c8a4dcdbe2cd7d8805d2a6e",
    "deepnote_cell_type": "code",
    "execution_context_id": "a2fb3eea-709c-4861-b714-fc7371c7fd7b",
    "execution_millis": 0,
    "execution_start": 1736246130506,
    "id": "PhXVJlAnu2Wj",
    "source_hash": "33468dff"
   },
   "outputs": [],
   "source": [
    "#@title #9-1. ルート/, GET /blogs 一覧画面（フォーム付き）, POST /blogs データ作成機能 （前回と同じ）\n",
    "\n",
    "\n",
    "from datetime import datetime, timedelta\n",
    "from zoneinfo import ZoneInfo\n",
    "from flask import g, render_template, redirect, url_for, request, flash, session\n",
    "\n",
    "#セッションを設定する\n",
    "app.secret_key = 'timestamp'\n",
    "app.permanent_session_lifetime = timedelta(days=5)\n",
    "# /（ルート）にアクセスしたら次に書く関数(home)を実行するという宣言\n",
    "@app.route(\"/\")\n",
    "def home():\n",
    "    return render_template('home.html')\n",
    "\n",
    "# /posts にHTTPメソッドがGETでアクセスしたblog_index関数を実行する\n",
    "@app.get(\"/posts\")\n",
    "def post_index():\n",
    "   #データベースからデータを引き出す（オブジェクトのリストの形で帰ってくる）\n",
    "    # https://msiz07-flask-docs-ja.readthedocs.io/ja/latest/patterns/sqlalchemy.html#declarative\n",
    "    # データベースから投稿を取得\n",
    "    posts = Post.query.all()\n",
    "    tags = Tag.query.all()\n",
    "    # テンプレートにblogs変数を渡す\n",
    "    return render_template('all_post2.html', posts = posts,tags =tags, post = Post())\n",
    "\n",
    "# /posts にHTTPメソッドがPOSTでアクセスしたblog_create関数を実行する\n",
    "@app.route(\"/new\", methods=[\"GET\", \"POST\"])\n",
    "def post_create():\n",
    "    if request.method == \"POST\":\n",
    "        # フォームの値を取得してバリデーション\n",
    "        title = request.form.get(\"title\")\n",
    "        user_id = request.form.get(\"user_id\")\n",
    "        user_name = request.form.get(\"user_name\")\n",
    "        body = request.form.get(\"body\")\n",
    "        address = request.form.get(\"address\")\n",
    "        memo = request.form.get(\"memo\")\n",
    "        private = request.form.get(\"private\")\n",
    "\n",
    "        if not title or not user_name or not body:\n",
    "            flash(\"タイトル、ユーザー名、本文は必須項目です。\")\n",
    "            return redirect(url_for(\"post_create\"))\n",
    "\n",
    "        # 投稿データを保存\n",
    "        try:\n",
    "            post = Post(\n",
    "                title=title,\n",
    "                user_name=user_name,#一時的に追加\n",
    "                user_id=user_id, #一時的に追加\n",
    "                body=body,\n",
    "                address=address,\n",
    "                memo=memo,\n",
    "                private=private,\n",
    "            )\n",
    "            db.session.add(post)\n",
    "            db.session.commit()\n",
    "            flash(\"投稿が作成されました。\")\n",
    "            return redirect(url_for(\"post_index\"))\n",
    "        except Exception as e:\n",
    "            flash(f\"予期せぬエラー: {e}\")\n",
    "            return redirect(url_for(\"post_create\"))\n",
    "\n",
    "    # GETリクエスト時: フォーム画面を表示\n",
    "    return render_template('new_post.html')"
   ]
  },
  {
   "cell_type": "markdown",
   "metadata": {
    "cell_id": "c72612826a544b5dbc89814c6d1d3b5b",
    "deepnote_cell_type": "text-cell-h3",
    "formattedRanges": []
   },
   "source": [
    "### ⛄🪵9-2 GET /blogs/:id 更新用フォーム、Post(気持ちはpatch) /blogs/:id 更新処理"
   ]
  },
  {
   "cell_type": "code",
   "execution_count": 15,
   "metadata": {
    "cell_id": "c83564942aff48a99a90395c03694044",
    "deepnote_cell_type": "code",
    "execution_context_id": "a2fb3eea-709c-4861-b714-fc7371c7fd7b",
    "execution_millis": 0,
    "execution_start": 1736246130558,
    "id": "SD-YguXVEadJ",
    "source_hash": "1939e5b8"
   },
   "outputs": [],
   "source": [
    "# @title 9-2 GET /blogs/:id 更新用フォーム、Post(気持ちはpatch) /blogs/:id 更新処理\n",
    "\n",
    "@app.get('/posts/<string:id>')\n",
    "def get_post(id):\n",
    "    # 指定のidのpostオブジェクトを取得する\n",
    "    post = db.get_or_404(Post, id)\n",
    "    # https://flask-sqlalchemy.readthedocs.io/en/3.1.x/queries/#queries-for-views\n",
    "    return render_template('detail.html', post = post)\n",
    "\n",
    "#🪵postの編集ページ\n",
    "@app.get('/posts/<string:id>/edit')\n",
    "def edit_post(id):\n",
    "    # 指定のidのblogオブジェクトを取得する\n",
    "    post = db.get_or_404(Post, id)\n",
    "    # post.likes = post.likes + 1\n",
    "    # print(\"いいね数は\"+str(post.likes))\n",
    "    # https://flask-sqlalchemy.readthedocs.io/en/3.1.x/queries/#queries-for-views\n",
    "    return render_template('new_post.html', post = post)    \n",
    "\n",
    "@app.post('/posts/<string:id>')\n",
    "def update_post(id):\n",
    "    # 指定のidのpostオブジェクトを取得する\n",
    "    post = db.get_or_404(Post, id)\n",
    "\n",
    "    # 更新処理の場合\n",
    "    if request.form.get('_method') == 'PATCH':\n",
    "        try:\n",
    "            post.title = request.form[\"title\"]\n",
    "            post.user_name = request.form[\"user_name\"]\n",
    "            post.body = request.form[\"body\"]\n",
    "            post.address = request.form[\"address\"]\n",
    "            post.memo = request.form[\"memo\"]\n",
    "            post.created_at = datetime.utcnow()\n",
    "            # post.private = request.form[\"private\"]\n",
    "            post.private = False\n",
    "            post.likes = 0\n",
    "            db.session.commit()\n",
    "            flash(\"データを更新しました\")\n",
    "        except ValueError as ve:\n",
    "            flash(f\"入力が不足しています#{ve}\")\n",
    "        except Exception as e:\n",
    "            flash(f\"予期せぬエラー #{e}\")\n",
    "        # 編集画面にGETでリダイレクトする\n",
    "        return redirect(url_for(\"get_post\", id=id))\n",
    "    # 削除リクエストの場合\n",
    "    elif request.form.get('_method') == 'DELETE':\n",
    "        db.session.delete(post)\n",
    "        db.session.commit()\n",
    "        # 一覧画面にGETでリダイレクトする\n",
    "        return redirect(url_for(\"post_index\"))"
   ]
  },
  {
   "cell_type": "markdown",
   "metadata": {
    "cell_id": "43a9bc91d237445eaf058a3759519e55",
    "deepnote_cell_type": "markdown",
    "id": "EhIOrf87RjS4"
   },
   "source": [
    "https://flask.palletsprojects.com/en/stable/patterns/javascript/"
   ]
  },
  {
   "cell_type": "markdown",
   "metadata": {
    "cell_id": "405e7bcaf8b94915b798f35025e9a7b7",
    "deepnote_cell_type": "text-cell-h3",
    "formattedRanges": []
   },
   "source": [
    "### 🪵9-2-2 いいねカウンターの実装 #1/2 りおちん"
   ]
  },
  {
   "cell_type": "code",
   "execution_count": 16,
   "metadata": {
    "cell_id": "5648362e818c4a1781e3e044f14025b2",
    "deepnote_cell_type": "code",
    "execution_context_id": "a2fb3eea-709c-4861-b714-fc7371c7fd7b",
    "execution_millis": 0,
    "execution_start": 1736246130608,
    "source_hash": "20f6217a"
   },
   "outputs": [],
   "source": [
    "@app.route('/posts/<int:post_id>', methods=['POST'])\n",
    "def like_post(post_id):\n",
    "    post = Post.query.get(post_id)\n",
    "    \n",
    "    if post:\n",
    "        post.likes += 1\n",
    "        db.session.commit()  # データベースの更新\n",
    "        print(\"いいね数は\"+str(post.likes))\n",
    "        return jsonify({'likes': post.likes}), 200\n",
    "    else:\n",
    "        return jsonify({'error': 'Post not found'}), 404\n"
   ]
  },
  {
   "cell_type": "markdown",
   "metadata": {
    "cell_id": "7d72b46efb3149a08463230a718d53ea",
    "deepnote_cell_type": "text-cell-h3",
    "formattedRanges": []
   },
   "source": [
    "### ⛄9-4 Post /blogs/:id/tag フォームで送られてきたタグをブログに紐づける"
   ]
  },
  {
   "cell_type": "code",
   "execution_count": 17,
   "metadata": {
    "cell_id": "e6191dd028e44bacb11ca763d8aca1ad",
    "deepnote_cell_type": "code",
    "execution_context_id": "a2fb3eea-709c-4861-b714-fc7371c7fd7b",
    "execution_millis": 0,
    "execution_start": 1736246130658,
    "id": "SoyBnFBlW4SF",
    "source_hash": "8296df1e"
   },
   "outputs": [],
   "source": [
    "# @title #9-4 Post /blogs/:id/tag フォームで送られてきたタグをブログに紐づける\n",
    "@app.post('/posts/<string:id>/tag')\n",
    "def create_tag(id):\n",
    "\n",
    "  post = db.get_or_404(Post, id)\n",
    "  tag_name = request.form[\"name\"]\n",
    "  tag = Tag.query.filter_by(name=tag_name).first() # nameで登録済みのタグを探す\n",
    "  if tag is None:\n",
    "    tag = Tag(name = tag_name) # もしなければTagを作る\n",
    "    db.session.add(tag)\n",
    "    db.session.commit()\n",
    "  post.tags.append(tag)  # blogにタグを紐づける\n",
    "  db.session.commit()\n",
    "  # 確認コード例 (SQLAlchemyの場合)\n",
    "  print(post.tags)  # データベースから取得した後、正しいタグリストが含まれているか\n",
    "\n",
    "  return redirect(url_for(\"get_post\", id = post.id))"
   ]
  },
  {
   "cell_type": "markdown",
   "metadata": {
    "cell_id": "0d09736eee034f6b9c4c870d0e9680a3",
    "deepnote_cell_type": "markdown",
    "id": "PSDnOKs02tIW"
   },
   "source": []
  },
  {
   "cell_type": "markdown",
   "metadata": {
    "cell_id": "26ac112a63794d2c898c09159cbca573",
    "deepnote_cell_type": "text-cell-h2",
    "formattedRanges": []
   },
   "source": [
    "## 10.アプリケーションを立ち上げる"
   ]
  },
  {
   "cell_type": "code",
   "execution_count": 21,
   "metadata": {
    "cellView": "form",
    "cell_id": "94820e4381274c0da15b73db3b7b75a9",
    "colab": {
     "base_uri": "https://localhost:8080/"
    },
    "deepnote_cell_type": "code",
    "execution_context_id": "a2fb3eea-709c-4861-b714-fc7371c7fd7b",
    "execution_millis": 619460,
    "execution_start": 1736246131638,
    "id": "S4IhqcmUy8X5",
    "outputId": "9ab478b9-46d6-4994-953b-1bdd24e3b5d9",
    "source_hash": "6b256e7f"
   },
   "outputs": [
    {
     "name": "stdout",
     "output_type": "stream",
     "text": [
      "ngrok URL: NgrokTunnel: \"https://07bf-3-220-159-34.ngrok-free.app\" -> \"http://localhost:2000\"\n",
      " * Serving Flask app '__main__'\n",
      " * Debug mode: off\n",
      "\u001b[31m\u001b[1mWARNING: This is a development server. Do not use it in a production deployment. Use a production WSGI server instead.\u001b[0m\n",
      " * Running on http://127.0.0.1:2000\n",
      "\u001b[33mPress CTRL+C to quit\u001b[0m\n",
      "127.0.0.1 - - [07/Jan/2025 10:36:00] \"GET / HTTP/1.1\" 200 -\n",
      "127.0.0.1 - - [07/Jan/2025 10:36:01] \"GET /static/js/script.js HTTP/1.1\" 200 -\n",
      "127.0.0.1 - - [07/Jan/2025 10:36:01] \"GET /static/css/style.css HTTP/1.1\" 200 -\n",
      "127.0.0.1 - - [07/Jan/2025 10:36:01] \"\u001b[33mGET /api/placeholder/32/32 HTTP/1.1\u001b[0m\" 404 -\n",
      "127.0.0.1 - - [07/Jan/2025 10:36:05] \"GET /posts HTTP/1.1\" 200 -\n",
      "127.0.0.1 - - [07/Jan/2025 10:36:05] \"\u001b[33mGET /api/placeholder/32/32 HTTP/1.1\u001b[0m\" 404 -\n",
      "127.0.0.1 - - [07/Jan/2025 10:36:06] \"\u001b[36mGET /static/js/script.js HTTP/1.1\u001b[0m\" 304 -\n",
      "127.0.0.1 - - [07/Jan/2025 10:36:06] \"GET /static/css/all_post.css HTTP/1.1\" 200 -\n",
      "127.0.0.1 - - [07/Jan/2025 10:36:06] \"\u001b[36mGET /static/css/style.css HTTP/1.1\u001b[0m\" 304 -\n",
      "[2025-01-07 10:36:10,104] ERROR in app: Exception on /posts/2 [GET]\n",
      "Traceback (most recent call last):\n",
      "  File \"/root/venv/lib/python3.9/site-packages/flask/app.py\", line 1511, in wsgi_app\n",
      "    response = self.full_dispatch_request()\n",
      "  File \"/root/venv/lib/python3.9/site-packages/flask/app.py\", line 919, in full_dispatch_request\n",
      "    rv = self.handle_user_exception(e)\n",
      "  File \"/root/venv/lib/python3.9/site-packages/flask/app.py\", line 917, in full_dispatch_request\n",
      "    rv = self.dispatch_request()\n",
      "  File \"/root/venv/lib/python3.9/site-packages/flask/app.py\", line 902, in dispatch_request\n",
      "    return self.ensure_sync(self.view_functions[rule.endpoint])(**view_args)  # type: ignore[no-any-return]\n",
      "  File \"/tmp/ipykernel_3660/261346268.py\", line 8, in get_post\n",
      "    return render_template('detail.html', post = post)\n",
      "  File \"/root/venv/lib/python3.9/site-packages/flask/templating.py\", line 150, in render_template\n",
      "    return _render(app, template, context)\n",
      "  File \"/root/venv/lib/python3.9/site-packages/flask/templating.py\", line 131, in _render\n",
      "    rv = template.render(context)\n",
      "  File \"/shared-libs/python3.9/py-core/lib/python3.9/site-packages/jinja2/environment.py\", line 1301, in render\n",
      "    self.environment.handle_exception()\n",
      "  File \"/shared-libs/python3.9/py-core/lib/python3.9/site-packages/jinja2/environment.py\", line 936, in handle_exception\n",
      "    raise rewrite_traceback_stack(source=source)\n",
      "  File \"/datasets/_deepnote_work/flask_blog/templates/detail.html\", line 6, in top-level template code\n",
      "    {% extends 'layout.html' %}\n",
      "  File \"/datasets/_deepnote_work/flask_blog/templates/layout.html\", line 47, in top-level template code\n",
      "    {% block content %}{% endblock %}\n",
      "  File \"/datasets/_deepnote_work/flask_blog/templates/detail.html\", line 12, in block 'content'\n",
      "    {% if current_user.is_authenticated %}\n",
      "  File \"/shared-libs/python3.9/py-core/lib/python3.9/site-packages/jinja2/environment.py\", line 485, in getattr\n",
      "    return getattr(obj, attribute)\n",
      "jinja2.exceptions.UndefinedError: 'current_user' is undefined\n",
      "127.0.0.1 - - [07/Jan/2025 10:36:10] \"\u001b[35m\u001b[1mGET /posts/2 HTTP/1.1\u001b[0m\" 500 -\n",
      "127.0.0.1 - - [07/Jan/2025 10:36:16] \"GET /new HTTP/1.1\" 200 -\n",
      "127.0.0.1 - - [07/Jan/2025 10:36:16] \"\u001b[33mGET /api/placeholder/32/32 HTTP/1.1\u001b[0m\" 404 -\n",
      "127.0.0.1 - - [07/Jan/2025 10:36:17] \"GET /static/css/new_post.css HTTP/1.1\" 200 -\n",
      "127.0.0.1 - - [07/Jan/2025 10:36:17] \"\u001b[36mGET /static/js/script.js HTTP/1.1\u001b[0m\" 304 -\n",
      "127.0.0.1 - - [07/Jan/2025 10:36:17] \"\u001b[36mGET /static/css/style.css HTTP/1.1\u001b[0m\" 304 -\n",
      "127.0.0.1 - - [07/Jan/2025 10:39:16] \"\u001b[32mPOST /new HTTP/1.1\u001b[0m\" 302 -\n",
      "127.0.0.1 - - [07/Jan/2025 10:39:16] \"GET /new HTTP/1.1\" 200 -\n",
      "127.0.0.1 - - [07/Jan/2025 10:39:17] \"\u001b[33mGET /api/placeholder/32/32 HTTP/1.1\u001b[0m\" 404 -\n",
      "127.0.0.1 - - [07/Jan/2025 10:39:18] \"\u001b[36mGET /static/css/style.css HTTP/1.1\u001b[0m\" 304 -\n",
      "127.0.0.1 - - [07/Jan/2025 10:39:18] \"\u001b[36mGET /static/js/script.js HTTP/1.1\u001b[0m\" 304 -\n",
      "127.0.0.1 - - [07/Jan/2025 10:39:18] \"\u001b[36mGET /static/css/new_post.css HTTP/1.1\u001b[0m\" 304 -\n"
     ]
    }
   ],
   "source": [
    "#@title #10.アプリケーションを立ち上げる\n",
    "\n",
    "if __name__ == \"__main__\":\n",
    "    public_url = ngrok.connect(2000)\n",
    "    print(f\"ngrok URL: {public_url}\")\n",
    "    app.run(port=2000)"
   ]
  },
  {
   "cell_type": "markdown",
   "metadata": {
    "created_in_deepnote_cell": true,
    "deepnote_cell_type": "markdown"
   },
   "source": [
    "<a style='text-decoration:none;line-height:16px;display:flex;color:#5B5B62;padding:10px;justify-content:end;' href='https://deepnote.com?utm_source=created-in-deepnote-cell&projectId=5456fa35-ea0f-4cee-9aed-01d78c91284d' target=\"_blank\">\n",
    "<img alt='Created in deepnote.com' style='display:inline;max-height:16px;margin:0px;margin-right:7.5px;' src='data:image/svg+xml;base64,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' > </img>\n",
    "Created in <span style='font-weight:600;margin-left:4px;'>Deepnote</span></a>"
   ]
  }
 ],
 "metadata": {
  "deepnote_app_layout": "powerful-article",
  "deepnote_app_reactivity_enabled": true,
  "deepnote_notebook_id": "3bd1342e1d0e4050b70be61fde39ccb1",
  "language_info": {
   "name": "python"
  }
 },
 "nbformat": 4,
 "nbformat_minor": 0
}
