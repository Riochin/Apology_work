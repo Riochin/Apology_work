{
 "cells": [
  {
   "cell_type": "markdown",
   "metadata": {
    "cell_id": "23affed9cec742109afadc12cac8a88c",
    "deepnote_cell_type": "text-cell-h1",
    "formattedRanges": []
   },
   "source": [
    "# 1.　ngrokのauth_tokeを設定して前回の内容を実行[事前準備、設定]"
   ]
  },
  {
   "cell_type": "code",
   "execution_count": 1,
   "metadata": {
    "cell_id": "e1ec401e158f408eb0cd09e7fe972d67",
    "colab": {
     "base_uri": "https://localhost:8080/"
    },
    "deepnote_cell_type": "code",
    "execution_context_id": "6b726d73-6c87-4ffd-83dc-c112424590dc",
    "execution_millis": 6104,
    "execution_start": 1736251076410,
    "id": "mJxNWy4zN7wm",
    "outputId": "ed4ea1e1-47a8-43f8-889e-b929857ca40a",
    "source_hash": "f523e944"
   },
   "outputs": [
    {
     "name": "stdout",
     "output_type": "stream",
     "text": [
      "Requirement already satisfied: pip in /root/venv/lib/python3.9/site-packages (24.3.1)\n",
      "Requirement already satisfied: flask in /root/venv/lib/python3.9/site-packages (3.1.0)\n",
      "Requirement already satisfied: pyngrok in /root/venv/lib/python3.9/site-packages (7.2.2)\n",
      "Requirement already satisfied: Werkzeug>=3.1 in /root/venv/lib/python3.9/site-packages (from flask) (3.1.3)\n",
      "Requirement already satisfied: Jinja2>=3.1.2 in /shared-libs/python3.9/py-core/lib/python3.9/site-packages (from flask) (3.1.2)\n",
      "Requirement already satisfied: itsdangerous>=2.2 in /root/venv/lib/python3.9/site-packages (from flask) (2.2.0)\n",
      "Requirement already satisfied: click>=8.1.3 in /shared-libs/python3.9/py/lib/python3.9/site-packages (from flask) (8.1.3)\n",
      "Requirement already satisfied: blinker>=1.9 in /root/venv/lib/python3.9/site-packages (from flask) (1.9.0)\n",
      "Requirement already satisfied: importlib-metadata>=3.6 in /shared-libs/python3.9/py/lib/python3.9/site-packages (from flask) (5.0.0)\n",
      "Requirement already satisfied: PyYAML>=5.1 in /root/venv/lib/python3.9/site-packages (from pyngrok) (6.0.2)\n",
      "Requirement already satisfied: zipp>=0.5 in /shared-libs/python3.9/py/lib/python3.9/site-packages (from importlib-metadata>=3.6->flask) (3.9.0)\n",
      "Requirement already satisfied: MarkupSafe>=2.0 in /shared-libs/python3.9/py-core/lib/python3.9/site-packages (from Jinja2>=3.1.2->flask) (2.0.0)\n",
      "Collecting MarkupSafe>=2.0 (from Jinja2>=3.1.2->flask)\n",
      "  Using cached MarkupSafe-3.0.2-cp39-cp39-manylinux_2_17_x86_64.manylinux2014_x86_64.whl.metadata (4.0 kB)\n",
      "Using cached MarkupSafe-3.0.2-cp39-cp39-manylinux_2_17_x86_64.manylinux2014_x86_64.whl (20 kB)\n",
      "Installing collected packages: MarkupSafe\n",
      "  Attempting uninstall: MarkupSafe\n",
      "    Found existing installation: MarkupSafe 2.0.0\n",
      "    Not uninstalling markupsafe at /shared-libs/python3.9/py-core/lib/python3.9/site-packages, outside environment /root/venv\n",
      "    Can't uninstall 'MarkupSafe'. No files were found to uninstall.\n",
      "Successfully installed MarkupSafe-3.0.2\n"
     ]
    }
   ],
   "source": [
    "#@title #1.　ngrokのauth_tokeを設定して前回の内容を実行[事前準備、設定]\n",
    "\n",
    "!pip install --upgrade pip #12/27 21:46追加\n",
    "\n",
    "# 1,2 Flask, pyngrokのインストール\n",
    "!pip install flask pyngrok\n",
    "#  必要なモジュールのimport\n",
    "import os\n",
    "# flaskからFlaskクラスをインポート\n",
    "from flask import Flask\n",
    "# pyngrokからngrokモジュールとconfモジュールをインポート\n",
    "from pyngrok import ngrok, conf\n",
    "# 設定\n",
    "# ngrokトークンを設定\n",
    "conf.get_default().auth_token = \"\" #ここに自分のNgrokトークンを入れてください！！！！！\n"
   ]
  },
  {
   "cell_type": "markdown",
   "metadata": {
    "cell_id": "60105aedf4c849d28c0ec427da35ed63",
    "deepnote_cell_type": "text-cell-h2",
    "formattedRanges": []
   },
   "source": [
    "## 1-2 Flask-SQLAlchemyのインストール"
   ]
  },
  {
   "cell_type": "code",
   "execution_count": 2,
   "metadata": {
    "cell_id": "698774ff05ab492faaa783755bc4287c",
    "colab": {
     "base_uri": "https://localhost:8080/"
    },
    "deepnote_cell_type": "code",
    "execution_context_id": "6b726d73-6c87-4ffd-83dc-c112424590dc",
    "execution_millis": 3577,
    "execution_start": 1736251082570,
    "id": "F88Oqz7PERzS",
    "outputId": "c85cfbed-551e-479b-cd4a-53a3104919f3",
    "source_hash": "aea12849"
   },
   "outputs": [
    {
     "name": "stdout",
     "output_type": "stream",
     "text": [
      "Requirement already satisfied: flask-sqlalchemy in /root/venv/lib/python3.9/site-packages (3.1.1)\n",
      "Requirement already satisfied: flask>=2.2.5 in /root/venv/lib/python3.9/site-packages (from flask-sqlalchemy) (3.1.0)\n",
      "Requirement already satisfied: sqlalchemy>=2.0.16 in /root/venv/lib/python3.9/site-packages (from flask-sqlalchemy) (2.0.36)\n",
      "Requirement already satisfied: Werkzeug>=3.1 in /root/venv/lib/python3.9/site-packages (from flask>=2.2.5->flask-sqlalchemy) (3.1.3)\n",
      "Requirement already satisfied: Jinja2>=3.1.2 in /shared-libs/python3.9/py-core/lib/python3.9/site-packages (from flask>=2.2.5->flask-sqlalchemy) (3.1.2)\n",
      "Requirement already satisfied: itsdangerous>=2.2 in /root/venv/lib/python3.9/site-packages (from flask>=2.2.5->flask-sqlalchemy) (2.2.0)\n",
      "Requirement already satisfied: click>=8.1.3 in /shared-libs/python3.9/py/lib/python3.9/site-packages (from flask>=2.2.5->flask-sqlalchemy) (8.1.3)\n",
      "Requirement already satisfied: blinker>=1.9 in /root/venv/lib/python3.9/site-packages (from flask>=2.2.5->flask-sqlalchemy) (1.9.0)\n",
      "Requirement already satisfied: importlib-metadata>=3.6 in /shared-libs/python3.9/py/lib/python3.9/site-packages (from flask>=2.2.5->flask-sqlalchemy) (5.0.0)\n",
      "Requirement already satisfied: typing-extensions>=4.6.0 in /root/venv/lib/python3.9/site-packages (from sqlalchemy>=2.0.16->flask-sqlalchemy) (4.12.2)\n",
      "Requirement already satisfied: greenlet!=0.4.17 in /shared-libs/python3.9/py/lib/python3.9/site-packages (from sqlalchemy>=2.0.16->flask-sqlalchemy) (1.1.3.post0)\n",
      "Requirement already satisfied: zipp>=0.5 in /shared-libs/python3.9/py/lib/python3.9/site-packages (from importlib-metadata>=3.6->flask>=2.2.5->flask-sqlalchemy) (3.9.0)\n",
      "Requirement already satisfied: MarkupSafe>=2.0 in /shared-libs/python3.9/py-core/lib/python3.9/site-packages (from Jinja2>=3.1.2->flask>=2.2.5->flask-sqlalchemy) (2.0.0)\n",
      "Collecting MarkupSafe>=2.0 (from Jinja2>=3.1.2->flask>=2.2.5->flask-sqlalchemy)\n",
      "  Using cached MarkupSafe-3.0.2-cp39-cp39-manylinux_2_17_x86_64.manylinux2014_x86_64.whl.metadata (4.0 kB)\n",
      "Using cached MarkupSafe-3.0.2-cp39-cp39-manylinux_2_17_x86_64.manylinux2014_x86_64.whl (20 kB)\n",
      "Installing collected packages: MarkupSafe\n",
      "  Attempting uninstall: MarkupSafe\n",
      "    Found existing installation: MarkupSafe 2.0.0\n",
      "    Not uninstalling markupsafe at /shared-libs/python3.9/py-core/lib/python3.9/site-packages, outside environment /root/venv\n",
      "    Can't uninstall 'MarkupSafe'. No files were found to uninstall.\n",
      "Successfully installed MarkupSafe-3.0.2\n"
     ]
    }
   ],
   "source": [
    "# @title 1-2 Flask-SQLAlchemyのインストール\n",
    "!pip install --upgrade flask-sqlalchemy #12/27 21:46追加"
   ]
  },
  {
   "cell_type": "markdown",
   "metadata": {
    "cell_id": "75feca09bfef4eecabdaedb4bd38c286",
    "deepnote_cell_type": "text-cell-h2",
    "formattedRanges": []
   },
   "source": [
    "## 1-3 OpenAIライブラリのインストール"
   ]
  },
  {
   "cell_type": "code",
   "execution_count": 3,
   "metadata": {
    "cell_id": "4a840149050a4554944c089163a8c074",
    "colab": {
     "base_uri": "https://localhost:8080/"
    },
    "deepnote_cell_type": "code",
    "execution_context_id": "6b726d73-6c87-4ffd-83dc-c112424590dc",
    "execution_millis": 2434,
    "execution_start": 1736251086210,
    "id": "kzf9gmtDx9CO",
    "outputId": "8edcbc52-6e7d-41c6-fe6d-101678177b45",
    "source_hash": "df8fc189"
   },
   "outputs": [
    {
     "name": "stdout",
     "output_type": "stream",
     "text": [
      "Requirement already satisfied: openai==1.55.3 in /root/venv/lib/python3.9/site-packages (1.55.3)\n",
      "Requirement already satisfied: httpx==0.27.2 in /root/venv/lib/python3.9/site-packages (0.27.2)\n",
      "Collecting anyio==3.7.0\n",
      "  Using cached anyio-3.7.0-py3-none-any.whl.metadata (4.7 kB)\n",
      "Requirement already satisfied: distro<2,>=1.7.0 in /root/venv/lib/python3.9/site-packages (from openai==1.55.3) (1.9.0)\n",
      "Requirement already satisfied: jiter<1,>=0.4.0 in /root/venv/lib/python3.9/site-packages (from openai==1.55.3) (0.8.2)\n",
      "Requirement already satisfied: pydantic<3,>=1.9.0 in /shared-libs/python3.9/py/lib/python3.9/site-packages (from openai==1.55.3) (1.10.2)\n",
      "Requirement already satisfied: sniffio in /shared-libs/python3.9/py-core/lib/python3.9/site-packages (from openai==1.55.3) (1.3.0)\n",
      "Requirement already satisfied: tqdm>4 in /shared-libs/python3.9/py/lib/python3.9/site-packages (from openai==1.55.3) (4.64.1)\n",
      "Requirement already satisfied: typing-extensions<5,>=4.11 in /root/venv/lib/python3.9/site-packages (from openai==1.55.3) (4.12.2)\n",
      "Requirement already satisfied: certifi in /shared-libs/python3.9/py/lib/python3.9/site-packages (from httpx==0.27.2) (2022.9.24)\n",
      "Requirement already satisfied: httpcore==1.* in /root/venv/lib/python3.9/site-packages (from httpx==0.27.2) (1.0.7)\n",
      "Requirement already satisfied: idna in /shared-libs/python3.9/py-core/lib/python3.9/site-packages (from httpx==0.27.2) (3.4)\n",
      "Requirement already satisfied: exceptiongroup in /root/venv/lib/python3.9/site-packages (from anyio==3.7.0) (1.2.2)\n",
      "Requirement already satisfied: h11<0.15,>=0.13 in /root/venv/lib/python3.9/site-packages (from httpcore==1.*->httpx==0.27.2) (0.14.0)\n",
      "Using cached anyio-3.7.0-py3-none-any.whl (80 kB)\n",
      "Installing collected packages: anyio\n",
      "  Attempting uninstall: anyio\n",
      "    Found existing installation: anyio 3.6.2\n",
      "    Not uninstalling anyio at /shared-libs/python3.9/py-core/lib/python3.9/site-packages, outside environment /root/venv\n",
      "    Can't uninstall 'anyio'. No files were found to uninstall.\n",
      "Successfully installed anyio-3.7.0\n"
     ]
    }
   ],
   "source": [
    "# @title #1-3 OpenAIライブラリのインストール\n",
    "# https://platform.openai.com/docs/api-reference/introduction\n",
    "!pip install openai==1.55.3 httpx==0.27.2 anyio==3.7.0 "
   ]
  },
  {
   "cell_type": "markdown",
   "metadata": {
    "cell_id": "797f6f72ebd4492eaf7aa50e7c4777da",
    "deepnote_cell_type": "text-cell-h2",
    "formattedRanges": []
   },
   "source": [
    "## 1-4.Email_validatorのインストール"
   ]
  },
  {
   "cell_type": "code",
   "execution_count": 4,
   "metadata": {
    "cell_id": "ceb3cd5b2fa84fde8059ffe9ee875f0a",
    "deepnote_cell_type": "code",
    "execution_context_id": "6b726d73-6c87-4ffd-83dc-c112424590dc",
    "execution_millis": 20740,
    "execution_start": 1736251088690,
    "source_hash": "174c4686"
   },
   "outputs": [
    {
     "name": "stdout",
     "output_type": "stream",
     "text": [
      "Requirement already satisfied: email-validator in /root/venv/lib/python3.9/site-packages (2.2.0)\n",
      "Requirement already satisfied: dnspython>=2.0.0 in /shared-libs/python3.9/py/lib/python3.9/site-packages (from email-validator) (2.2.1)\n",
      "Requirement already satisfied: idna>=2.0.0 in /shared-libs/python3.9/py-core/lib/python3.9/site-packages (from email-validator) (3.4)\n"
     ]
    }
   ],
   "source": [
    "!pip install email-validator\n",
    "!pip freeze > requirements.txt"
   ]
  },
  {
   "cell_type": "markdown",
   "metadata": {
    "cell_id": "3a0b0c56109b4714bf103eca6e9c0a0c",
    "deepnote_cell_type": "text-cell-h2",
    "formattedRanges": []
   },
   "source": [
    "## 4.アプリケーションを初期化する"
   ]
  },
  {
   "cell_type": "code",
   "execution_count": 5,
   "metadata": {
    "cell_id": "e9c7098a16f24e5895fab6dd4e0f3a5f",
    "deepnote_cell_type": "code",
    "execution_context_id": "6b726d73-6c87-4ffd-83dc-c112424590dc",
    "execution_millis": 0,
    "execution_start": 1736251109486,
    "id": "aE9kOv0_EfsF",
    "source_hash": "baf1007d"
   },
   "outputs": [],
   "source": [
    "#@title　#4.アプリケーションを初期化する\n",
    "\n",
    "from flask import g, render_template\n",
    "\n",
    "# テンプレートと静的ファイルの置き場所を定数に代入\n",
    "TEMPLATE_PATH = 'flask_blog/templates'\n",
    "STATIC_PATH = 'flask_blog/static'\n",
    "# Flaskのインスタンスを作るときにそれを利用してファイルパスを設定する\n",
    "app = Flask(__name__, template_folder=TEMPLATE_PATH, static_folder=STATIC_PATH)"
   ]
  },
  {
   "cell_type": "markdown",
   "metadata": {
    "cell_id": "ef91651ffbdb47728c04cb2528780cfc",
    "deepnote_cell_type": "text-cell-h2",
    "formattedRanges": []
   },
   "source": [
    "## 5.Flask-SQLAlcyemyをアプリに設定をする"
   ]
  },
  {
   "cell_type": "code",
   "execution_count": 6,
   "metadata": {
    "cell_id": "3b7ae2c15fdf41abace02f299ddf8bdb",
    "deepnote_cell_type": "code",
    "execution_context_id": "6b726d73-6c87-4ffd-83dc-c112424590dc",
    "execution_millis": 665,
    "execution_start": 1736251109542,
    "id": "YEBaUCzqEhLB",
    "source_hash": "34b564b5"
   },
   "outputs": [],
   "source": [
    "#@title　#5.Flask-SQLAlcyemyをアプリに設定をする\n",
    "\n",
    "from flask_sqlalchemy import SQLAlchemy\n",
    "from sqlalchemy.orm import DeclarativeBase\n",
    "\n",
    "class Base(DeclarativeBase):\n",
    "  pass #これは何にもしないと言う意味\n",
    "\n",
    "# SQLAlchemyをインスタンス化\n",
    "db = SQLAlchemy(model_class=Base)\n",
    "\n",
    "# SQLiteデータベースをappに設定する\n",
    "app.config[\"SQLALCHEMY_DATABASE_URI\"] = \"sqlite:///sample_db.sqlite\"\n",
    "#  appを拡張とともに初期化\n",
    "db.init_app(app)"
   ]
  },
  {
   "cell_type": "markdown",
   "metadata": {
    "cell_id": "210738b982784757b8ab7cc375fe62cb",
    "deepnote_cell_type": "text-cell-h2",
    "formattedRanges": []
   },
   "source": [
    "## 10.ログイン機能を実装"
   ]
  },
  {
   "cell_type": "markdown",
   "metadata": {
    "cell_id": "4503c8030d524a80838ae08104c13559",
    "deepnote_cell_type": "text-cell-h3",
    "formattedRanges": []
   },
   "source": [
    "### 10-1.LoginManager の設定"
   ]
  },
  {
   "cell_type": "code",
   "execution_count": 7,
   "metadata": {
    "cell_id": "7c40b9dac9a64bfe86636e82221bde5b",
    "deepnote_cell_type": "code",
    "execution_context_id": "6b726d73-6c87-4ffd-83dc-c112424590dc",
    "execution_millis": 6380,
    "execution_start": 1736251110262,
    "source_hash": "353c5dee"
   },
   "outputs": [
    {
     "name": "stdout",
     "output_type": "stream",
     "text": [
      "Requirement already satisfied: flask_login==0.6.3 in /root/venv/lib/python3.9/site-packages (0.6.3)\n",
      "Requirement already satisfied: Flask>=1.0.4 in /root/venv/lib/python3.9/site-packages (from flask_login==0.6.3) (3.1.0)\n",
      "Requirement already satisfied: Werkzeug>=1.0.1 in /root/venv/lib/python3.9/site-packages (from flask_login==0.6.3) (3.1.3)\n",
      "Requirement already satisfied: Jinja2>=3.1.2 in /shared-libs/python3.9/py-core/lib/python3.9/site-packages (from Flask>=1.0.4->flask_login==0.6.3) (3.1.2)\n",
      "Requirement already satisfied: itsdangerous>=2.2 in /root/venv/lib/python3.9/site-packages (from Flask>=1.0.4->flask_login==0.6.3) (2.2.0)\n",
      "Requirement already satisfied: click>=8.1.3 in /shared-libs/python3.9/py/lib/python3.9/site-packages (from Flask>=1.0.4->flask_login==0.6.3) (8.1.3)\n",
      "Requirement already satisfied: blinker>=1.9 in /root/venv/lib/python3.9/site-packages (from Flask>=1.0.4->flask_login==0.6.3) (1.9.0)\n",
      "Requirement already satisfied: importlib-metadata>=3.6 in /shared-libs/python3.9/py/lib/python3.9/site-packages (from Flask>=1.0.4->flask_login==0.6.3) (5.0.0)\n",
      "Collecting MarkupSafe>=2.1.1 (from Werkzeug>=1.0.1->flask_login==0.6.3)\n",
      "  Using cached MarkupSafe-3.0.2-cp39-cp39-manylinux_2_17_x86_64.manylinux2014_x86_64.whl.metadata (4.0 kB)\n",
      "Requirement already satisfied: zipp>=0.5 in /shared-libs/python3.9/py/lib/python3.9/site-packages (from importlib-metadata>=3.6->Flask>=1.0.4->flask_login==0.6.3) (3.9.0)\n",
      "Using cached MarkupSafe-3.0.2-cp39-cp39-manylinux_2_17_x86_64.manylinux2014_x86_64.whl (20 kB)\n",
      "Installing collected packages: MarkupSafe\n",
      "  Attempting uninstall: MarkupSafe\n",
      "    Found existing installation: MarkupSafe 2.0.0\n",
      "    Not uninstalling markupsafe at /shared-libs/python3.9/py-core/lib/python3.9/site-packages, outside environment /root/venv\n",
      "    Can't uninstall 'MarkupSafe'. No files were found to uninstall.\n",
      "Successfully installed MarkupSafe-3.0.2\n",
      "Requirement already satisfied: flask-wtf in /root/venv/lib/python3.9/site-packages (1.2.2)\n",
      "Requirement already satisfied: flask in /root/venv/lib/python3.9/site-packages (from flask-wtf) (3.1.0)\n",
      "Requirement already satisfied: itsdangerous in /root/venv/lib/python3.9/site-packages (from flask-wtf) (2.2.0)\n",
      "Requirement already satisfied: wtforms in /root/venv/lib/python3.9/site-packages (from flask-wtf) (3.2.1)\n",
      "Requirement already satisfied: Werkzeug>=3.1 in /root/venv/lib/python3.9/site-packages (from flask->flask-wtf) (3.1.3)\n",
      "Requirement already satisfied: Jinja2>=3.1.2 in /shared-libs/python3.9/py-core/lib/python3.9/site-packages (from flask->flask-wtf) (3.1.2)\n",
      "Requirement already satisfied: click>=8.1.3 in /shared-libs/python3.9/py/lib/python3.9/site-packages (from flask->flask-wtf) (8.1.3)\n",
      "Requirement already satisfied: blinker>=1.9 in /root/venv/lib/python3.9/site-packages (from flask->flask-wtf) (1.9.0)\n",
      "Requirement already satisfied: importlib-metadata>=3.6 in /shared-libs/python3.9/py/lib/python3.9/site-packages (from flask->flask-wtf) (5.0.0)\n",
      "Requirement already satisfied: markupsafe in /shared-libs/python3.9/py-core/lib/python3.9/site-packages (from wtforms->flask-wtf) (2.0.0)\n",
      "Requirement already satisfied: zipp>=0.5 in /shared-libs/python3.9/py/lib/python3.9/site-packages (from importlib-metadata>=3.6->flask->flask-wtf) (3.9.0)\n",
      "Collecting markupsafe (from wtforms->flask-wtf)\n",
      "  Using cached MarkupSafe-3.0.2-cp39-cp39-manylinux_2_17_x86_64.manylinux2014_x86_64.whl.metadata (4.0 kB)\n",
      "Using cached MarkupSafe-3.0.2-cp39-cp39-manylinux_2_17_x86_64.manylinux2014_x86_64.whl (20 kB)\n",
      "Installing collected packages: markupsafe\n",
      "  Attempting uninstall: markupsafe\n",
      "    Found existing installation: MarkupSafe 2.0.0\n",
      "    Not uninstalling markupsafe at /shared-libs/python3.9/py-core/lib/python3.9/site-packages, outside environment /root/venv\n",
      "    Can't uninstall 'MarkupSafe'. No files were found to uninstall.\n",
      "Successfully installed markupsafe-3.0.2\n"
     ]
    }
   ],
   "source": [
    "!pip install flask_login==0.6.3\n",
    "!pip install flask-wtf\n",
    "from flask_login import LoginManager\n",
    "\n",
    "#インスタンス化\n",
    "login_manager = LoginManager()\n",
    "#アプリをログイン機能を紐付ける\n",
    "login_manager.init_app(app)\n",
    "#未ログインユーザーを転送する(ここでは'login'ビュー関数を指定)\n",
    "login_manager.login_view = 'login'\n",
    "\n",
    "#現在のログインユーザーの情報を保持し、必要なときに参照できるようになる。\n",
    "@login_manager.user_loader\n",
    "def load_user(user_id):\n",
    "    return User.query.get(user_id)"
   ]
  },
  {
   "cell_type": "markdown",
   "metadata": {
    "cell_id": "15018c44283e4809a6a37e74e26fc8f4",
    "deepnote_cell_type": "text-cell-h2",
    "formattedRanges": []
   },
   "source": [
    "## 6-1-1. Tagモデル, Post_Tagテーブル（中間テーブル）を作る"
   ]
  },
  {
   "cell_type": "code",
   "execution_count": 8,
   "metadata": {
    "cell_id": "1851b68fc29f49ecadf6c2e310cb832b",
    "deepnote_cell_type": "code",
    "execution_context_id": "6b726d73-6c87-4ffd-83dc-c112424590dc",
    "execution_millis": 14,
    "execution_start": 1736251116702,
    "id": "Z12gcZosYWJY",
    "source_hash": "72321620"
   },
   "outputs": [],
   "source": [
    "#@title　#7. Tagモデル, Blog_Tagテーブル（中間テーブル）を作る\n",
    "from __future__ import annotations\n",
    "from sqlalchemy import Table\n",
    "from sqlalchemy import ForeignKey\n",
    "from sqlalchemy import Column\n",
    "from sqlalchemy.orm import relationship\n",
    "from sqlalchemy import  DateTime, Integer, String\n",
    "from sqlalchemy.orm import Mapped, mapped_column, validates\n",
    "\n",
    "post_tag_table = Table(\n",
    "    \"post_tag\",\n",
    "    Base.metadata,\n",
    "    Column(\"post_id\", ForeignKey(\"post.id\"), primary_key=True),\n",
    "    Column(\"tag_id\", ForeignKey(\"tag.id\"), primary_key=True),\n",
    ")\n",
    "\n",
    "class Tag(db.Model):\n",
    "    __tablename__ = \"tag\"\n",
    "    id: Mapped[int] = mapped_column(primary_key=True)\n",
    "    name: Mapped[str] = mapped_column(nullable=False, unique=True)\n",
    "    created_at: Mapped[int] = db.Column(db.DateTime(timezone=True))\n",
    "    posts: Mapped[list[Post]] = relationship(\n",
    "        \"Post\",\n",
    "        secondary=post_tag_table,  # 正しい中間テーブルを指定\n",
    "        back_populates=\"tags\"\n",
    "    )\n",
    "\n",
    "    @validates(\"name\")\n",
    "    def validate_existance(self, key, value):\n",
    "        if not value:\n",
    "            raise ValueError(key)\n",
    "\n",
    "        return value\n",
    "    def to_json(self):\n",
    "        return {\n",
    "            \"id\": self.id,\n",
    "            \"name\": self.name\n",
    "        }\n",
    "\n"
   ]
  },
  {
   "cell_type": "markdown",
   "metadata": {
    "cell_id": "28709d006c794c208d8958224cbf27c4",
    "deepnote_cell_type": "text-cell-h2",
    "formattedRanges": []
   },
   "source": [
    "## 6-1-2. Addressモデル, User_Addressテーブル（中間テーブル）を作る"
   ]
  },
  {
   "cell_type": "code",
   "execution_count": 9,
   "metadata": {
    "cell_id": "d197a735e6aa4c3db11cd5d98aea4244",
    "deepnote_cell_type": "code",
    "execution_context_id": "6b726d73-6c87-4ffd-83dc-c112424590dc",
    "execution_millis": 0,
    "execution_start": 1736251116783,
    "id": "Z12gcZosYWJY",
    "source_hash": "86ef6ea1"
   },
   "outputs": [],
   "source": [
    "#@title　#7. Addressモデル, User_Addressテーブル（中間テーブル）を作る\n",
    "from __future__ import annotations\n",
    "from sqlalchemy import Table\n",
    "from sqlalchemy import ForeignKey\n",
    "from sqlalchemy import Column\n",
    "from sqlalchemy.orm import relationship\n",
    "from sqlalchemy import  DateTime, Integer, String\n",
    "from sqlalchemy.orm import Mapped, mapped_column, validates\n",
    "\n",
    "association_table = Table(\n",
    "    \"User_Address\",\n",
    "    Base.metadata,\n",
    "    Column(\"user_id\", ForeignKey(\"user.id\")),\n",
    "    Column(\"address_id\", ForeignKey(\"address.id\")),\n",
    ")\n",
    "\n",
    "class Address(db.Model):\n",
    "    id: Mapped[int] = mapped_column(primary_key=True)\n",
    "    name: Mapped[str] = mapped_column(nullable=False, unique=True)\n",
    "    created_at: Mapped[int] = db.Column(db.DateTime(timezone=True))\n",
    "\n",
    "    #ここにブログの関連\n",
    "    users: Mapped[list[User]] = relationship(secondary=association_table)  #adress -> User\n",
    "\n",
    "    @validates(\"name\")\n",
    "    def validate_existance(self, key, value):\n",
    "        if not value:\n",
    "            raise ValueError(key)\n",
    "\n",
    "        return value\n",
    "    def to_json(self):\n",
    "        return {\n",
    "            \"id\": self.id,\n",
    "            \"name\": self.name\n",
    "        }\n",
    "\n"
   ]
  },
  {
   "cell_type": "markdown",
   "metadata": {
    "cell_id": "3a4ae467c4364e68a09b82e083f2c3c9",
    "deepnote_cell_type": "text-cell-h2",
    "formattedRanges": []
   },
   "source": [
    "## ⛄️6-4.  Userモデルを作る"
   ]
  },
  {
   "cell_type": "code",
   "execution_count": 10,
   "metadata": {
    "cell_id": "4a9fe6b9d42c467d94b1e4223b883444",
    "deepnote_cell_type": "code",
    "execution_context_id": "6b726d73-6c87-4ffd-83dc-c112424590dc",
    "execution_millis": 0,
    "execution_start": 1736251116854,
    "source_hash": "279f19a1"
   },
   "outputs": [],
   "source": [
    "# UserMixin、ログイン・ログアウトで必要なライブラリをインポート\n",
    "from flask_login import LoginManager, UserMixin, login_user, logout_user, login_required, current_user\n",
    "# パスワードをハッシュ化するライブラリをインポート\n",
    "from werkzeug.security import check_password_hash, generate_password_hash\n",
    "\n",
    "# UserMixinを継承\n",
    "class User(db.Model, UserMixin):\n",
    "  __tablename__ = 'user'\n",
    "  id: Mapped[int] = mapped_column(primary_key=True)\n",
    "  user_name: Mapped[str] = mapped_column(nullable=False)\n",
    "  email: Mapped[str] = mapped_column(nullable=False)\n",
    "  created_at: Mapped[int] = db.Column(db.DateTime(timezone=True))\n",
    "  password_hash = db.Column(db.String(128))\n",
    "  \n",
    "  # パスワードチェックする関数を追加\n",
    "  def check_password(self, password):\n",
    "    return check_password_hash(self.password_hash, password)\n"
   ]
  },
  {
   "cell_type": "code",
   "execution_count": 11,
   "metadata": {
    "cell_id": "96e4ad28bbe74405bf94953b01e13261",
    "deepnote_cell_type": "code",
    "execution_context_id": "6b726d73-6c87-4ffd-83dc-c112424590dc",
    "execution_millis": 0,
    "execution_start": 1736251116902,
    "id": "fE-8jbiH79VG",
    "source_hash": "4ba494b7"
   },
   "outputs": [],
   "source": [
    "# #@title　#6. Userモデルを作る\n",
    "# class User(db.Model):\n",
    "#     id: Mapped[int] = mapped_column(primary_key=True)\n",
    "#     user_name: Mapped[str] = mapped_column(nullable=False)\n",
    "#     mail:Mapped[str] = mapped_column(nullable=False)\n",
    "#     pass_word:Mapped[str] = mapped_column(nullable=False)\n",
    "#     created_at: Mapped[int] = db.Column(db.DateTime(timezone=True))\n",
    "\n",
    "#     @validates(\"blog_id\", \"body\", \"user_name\")\n",
    "#     def validate_existance(self, key, value):\n",
    "#         if not value:\n",
    "#             raise ValueError(key)\n",
    "\n",
    "#         return value"
   ]
  },
  {
   "cell_type": "markdown",
   "metadata": {
    "cell_id": "ab23e679828a40dea8a9d0ccdffd39e5",
    "deepnote_cell_type": "text-cell-h2",
    "formattedRanges": []
   },
   "source": [
    "## 6-2. Postモデルを作る"
   ]
  },
  {
   "cell_type": "code",
   "execution_count": 12,
   "metadata": {
    "cell_id": "7145091770904a2280c9c66a0a92c160",
    "deepnote_cell_type": "code",
    "execution_context_id": "6b726d73-6c87-4ffd-83dc-c112424590dc",
    "execution_millis": 1,
    "execution_start": 1736251116951,
    "id": "R4xKYcr5FAq-",
    "source_hash": "90f485fa"
   },
   "outputs": [],
   "source": [
    "#@title　#6. Postモデルを作る\n",
    "\n",
    "class Post(db.Model):\n",
    "    __tablename__ = \"post\"\n",
    "    id: Mapped[int] = mapped_column(primary_key=True)\n",
    "    user_id: Mapped[int]  = mapped_column(db.ForeignKey(User.id))\n",
    "    title: Mapped[str]  = mapped_column(nullable=False)\n",
    "    body: Mapped[str] = mapped_column(nullable=False)\n",
    "    user_name: Mapped[str] = mapped_column(nullable=False)\n",
    "    created_at: Mapped[int] = db.Column(db.DateTime(timezone=True))\n",
    "    address:Mapped[str] = mapped_column(nullable=False)\n",
    "    memo:Mapped[str] = mapped_column(nullable=True)\n",
    "    likes:Mapped[int] = mapped_column(nullable=False, default=0)\n",
    "    private:Mapped[bool] = mapped_column(nullable=False, default=False)\n",
    "    tags: Mapped[list[Tag]] = relationship(\n",
    "        \"Tag\",\n",
    "        secondary=post_tag_table,  # 正しい中間テーブルを指定\n",
    "        back_populates=\"posts\"\n",
    "    )\n",
    "\n",
    "    # https://docs.sqlalchemy.org/en/20/orm/mapped_attributes.html#simple-validators\n",
    "    @validates(\"title\", \"body\", \"user_name\")\n",
    "    def validate_existance(self, key, value):\n",
    "        if not value:\n",
    "            raise ValueError(key)\n",
    "\n",
    "        return value"
   ]
  },
  {
   "cell_type": "markdown",
   "metadata": {
    "cell_id": "45743534c4544e8a985d4b458eaf2b89",
    "deepnote_cell_type": "text-cell-h2",
    "formattedRanges": []
   },
   "source": [
    "## 7. モデルをもとにテーブルを作成する"
   ]
  },
  {
   "cell_type": "code",
   "execution_count": 13,
   "metadata": {
    "cell_id": "73697b9535a64c769f648f5826c31348",
    "deepnote_cell_type": "code",
    "execution_context_id": "6b726d73-6c87-4ffd-83dc-c112424590dc",
    "execution_millis": 190,
    "execution_start": 1736251117002,
    "id": "WzyKxyK2Wupx",
    "source_hash": "91e68842"
   },
   "outputs": [],
   "source": [
    "#@title #7.モデルをもとにテーブルを作成する\n",
    "\n",
    "# アプリケーションが実行されるコンテキスト内で行うという指定のwith\n",
    "with app.app_context():\n",
    "  # db.drop_all() # 今まで作成したテーブルを一度すべて消す。6でBlogモデルに変更を加えてない場合は不要\n",
    "  #  テーブルを作成\n",
    "  db.create_all()"
   ]
  },
  {
   "cell_type": "markdown",
   "metadata": {
    "cell_id": "969b2074575148e3b7b6a37d1750d0e3",
    "deepnote_cell_type": "text-cell-h2",
    "formattedRanges": []
   },
   "source": [
    "## 8-1. タグテーブルにデータを入れる"
   ]
  },
  {
   "cell_type": "code",
   "execution_count": 14,
   "metadata": {
    "cell_id": "6c5815610f024322a602122435a65ec3",
    "colab": {
     "base_uri": "https://localhost:8080/"
    },
    "deepnote_cell_type": "code",
    "execution_context_id": "6b726d73-6c87-4ffd-83dc-c112424590dc",
    "execution_millis": 0,
    "execution_start": 1736251117234,
    "id": "mhSwioxMDlCu",
    "outputId": "909e7bd5-cd86-488a-dc3b-640479641fa5",
    "source_hash": "c5955aeb"
   },
   "outputs": [],
   "source": [
    "# #@title #8. タグテーブルにデータを入れる\n",
    "\n",
    "# from sqlalchemy import delete\n",
    "# with app.app_context():\n",
    "#     db.session.execute(db.delete(Tag)) # 同じデータが作られるのを防ぐために一度全部消す\n",
    "#     for name in [\"日記\", \"ガラスペン\", \"文房具\"]:#なるほど\n",
    "#         tag = Tag(name=name)\n",
    "#         db.session.add(tag)\n",
    "#         db.session.commit()"
   ]
  },
  {
   "cell_type": "markdown",
   "metadata": {
    "cell_id": "c7e303ab552142babe2268b41c5254dd",
    "deepnote_cell_type": "text-cell-h2",
    "formattedRanges": []
   },
   "source": [
    "## 8-2. アドレステーブルにデータを入れる"
   ]
  },
  {
   "cell_type": "code",
   "execution_count": 15,
   "metadata": {
    "cell_id": "cf5ca96888cd49cf9f6b0eb0311154ec",
    "deepnote_cell_type": "code",
    "execution_context_id": "6b726d73-6c87-4ffd-83dc-c112424590dc",
    "execution_millis": 1,
    "execution_start": 1736251117290,
    "source_hash": "8200d407"
   },
   "outputs": [],
   "source": [
    "# #@title #8. アドレステーブルにデータを入れる\n",
    "\n",
    "# from sqlalchemy import delete\n",
    "# with app.app_context():\n",
    "#     db.session.execute(db.delete((Address))) # 同じデータが作られるのを防ぐために一度全部消す\n",
    "#     for name in [\"日記\", \"ガラスペン\", \"文房具\"]:#なるほど\n",
    "#         address = Address(name=name)\n",
    "#         db.session.add(tag)\n",
    "#         db.session.commit()"
   ]
  },
  {
   "cell_type": "markdown",
   "metadata": {
    "cell_id": "b78cab8803dd4363959bb7dd0e0f6498",
    "deepnote_cell_type": "text-cell-h2",
    "formattedRanges": []
   },
   "source": [
    "## 8-2. Postテーブルにデータを入れる"
   ]
  },
  {
   "cell_type": "code",
   "execution_count": 16,
   "metadata": {
    "cell_id": "9cba49da935346148ec73b6e745b8f27",
    "deepnote_cell_type": "code",
    "execution_context_id": "6b726d73-6c87-4ffd-83dc-c112424590dc",
    "execution_millis": 0,
    "execution_start": 1736251117338,
    "source_hash": "9306766"
   },
   "outputs": [],
   "source": [
    "# #@title #8. アドレステーブルにデータを入れる\n",
    "\n",
    "# from sqlalchemy import delete\n",
    "# with app.app_context():\n",
    "#     db.session.execute(db.delete((Address))) # 同じデータが作られるのを防ぐために一度全部消す\n",
    "# 適切なデータを挿入する関数\n",
    "def insert_sample_data(session: Session):\n",
    "    # サンプルデータ\n",
    "    posts = [\n",
    "        {\n",
    "            \"user_id\": 1,\n",
    "            \"title\": \"My First Blog Post\",\n",
    "            \"body\": \"This is the body of my first blog post.\",\n",
    "            \"user_name\": \"Alice\",\n",
    "            \"created_at\": datetime.utcnow(),\n",
    "            \"address\": \"123 Main St, Springfield\",\n",
    "            \"memo\": \"First post, feeling excited!\",\n",
    "            \"likes\": 10,\n",
    "            \"private\": False\n",
    "        },\n",
    "    ]\n",
    "\n",
    "    # データベースに挿入\n",
    "    for post_data in posts:\n",
    "        post = Post(**post_data)  # Post クラスをインスタンス化\n",
    "        session.add(post)\n",
    "\n",
    "    # コミットしてデータを保存\n",
    "    session.commit()\n",
    "    print(\"Sample data inserted successfully.\")\n",
    "\n",
    "# insert_sample_data(db.session)"
   ]
  },
  {
   "cell_type": "markdown",
   "metadata": {
    "cell_id": "d414eaac0292471e9143d871af118544",
    "deepnote_cell_type": "text-cell-h3",
    "formattedRanges": []
   },
   "source": [
    "### 10-3-1.新規登録フォームの作成"
   ]
  },
  {
   "cell_type": "code",
   "execution_count": 17,
   "metadata": {
    "cell_id": "118e8585906d4783b622fbba78b6af1a",
    "deepnote_cell_type": "code",
    "execution_context_id": "6b726d73-6c87-4ffd-83dc-c112424590dc",
    "execution_millis": 18,
    "execution_start": 1736251117390,
    "source_hash": "ea9a3cf1"
   },
   "outputs": [],
   "source": [
    "from flask_wtf import FlaskForm\n",
    "from wtforms import StringField, PasswordField, SubmitField\n",
    "from wtforms.validators import DataRequired, Email, EqualTo, Length\n",
    "\n",
    "class RegistrationForm(FlaskForm):\n",
    "    user_name = StringField('ユーザー名', validators=[DataRequired(), Length(min=3, max=25)])\n",
    "    email = StringField('メールアドレス', validators=[DataRequired(), Email()])\n",
    "    password = PasswordField('パスワード', validators=[DataRequired(), Length(min=6)])\n",
    "    confirm_password = PasswordField('パスワード(確認用)', validators=[\n",
    "        DataRequired(), EqualTo('password', message='パスワードが一致しません')\n",
    "    ])\n",
    "    submit = SubmitField('登録')\n"
   ]
  },
  {
   "cell_type": "markdown",
   "metadata": {
    "cell_id": "fa1276362a8842a6aee0023a9b64187b",
    "deepnote_cell_type": "text-cell-h3",
    "formattedRanges": []
   },
   "source": [
    "### 10-3-2.ログイン用フォーム"
   ]
  },
  {
   "cell_type": "code",
   "execution_count": 18,
   "metadata": {
    "cell_id": "1282f29ab7c74455b968930fed9206a6",
    "deepnote_cell_type": "code",
    "execution_context_id": "6b726d73-6c87-4ffd-83dc-c112424590dc",
    "execution_millis": 0,
    "execution_start": 1736251117458,
    "source_hash": "ffad25fe"
   },
   "outputs": [],
   "source": [
    "# from flask_wtf import FlaskForm\n",
    "# from wtforms import StringField, PasswordField, SubmitField\n",
    "# from wtforms.validators import DataRequired, Email\n",
    "\n",
    "\n",
    "class LoginForm(FlaskForm):\n",
    "    email = StringField('Email', validators=[DataRequired(), Email(message='正しいメールアドレスを入力してください')])\n",
    "    password = PasswordField('Password', validators=[DataRequired()])\n",
    "    submit = SubmitField('ログイン')"
   ]
  },
  {
   "cell_type": "markdown",
   "metadata": {
    "cell_id": "de1f54e81cbe411ea3f180f6d5a717d4",
    "deepnote_cell_type": "text-cell-h3",
    "formattedRanges": []
   },
   "source": [
    "### 10-4.ビュー関数"
   ]
  },
  {
   "cell_type": "code",
   "execution_count": 19,
   "metadata": {
    "cell_id": "9b3dc5892f4945d9addd5deb350fda1a",
    "deepnote_cell_type": "code",
    "execution_context_id": "6b726d73-6c87-4ffd-83dc-c112424590dc",
    "execution_millis": 0,
    "execution_start": 1736251117530,
    "source_hash": "a6d366b9"
   },
   "outputs": [],
   "source": [
    "@app.route('/login', methods=['GET', 'POST'])\n",
    "def login():\n",
    "    form = LoginForm()\n",
    "    if form.validate_on_submit():\n",
    "        #フォーム入力したアドレスがDB内にあるか検索\n",
    "        user = User.query.filter_by(email=form.email.data).first()\n",
    "        if user is not None:\n",
    "            #check_passwordはUserモデル内の関数\n",
    "            if user.check_password(form.password.data):\n",
    "                #ログイン処理。ログイン状態として扱われる。\n",
    "                login_user(user)\n",
    "                next = request.args.get('next')\n",
    "                if next == None or not next[0] == '/':\n",
    "                    next = url_for('post_index') #🪵post_indexに変更\n",
    "                return redirect(next)\n",
    "                \n",
    "            else:\n",
    "                flash('パスワードが一致しません')\n",
    "        else:\n",
    "            flash('入力されたユーザーは存在しません')\n",
    "\n",
    "    return render_template('login.html', form=form)\n",
    "\n",
    "    # \"next\"がない = 「通常どおり、ログイン状態でアクセスしようとした」　ので、ログイン後に本来リダイレクトすべきページに遷移する。\n",
    "    # \"next\"がある = 「未ログインでログイン必須のページにアクセスしようとした」ので、そのユーザーがアクセスしようとしたページにリダイレクトさせる。\n",
    "    # 上記の条件分岐は以下のようなコードとなる。  \n",
    "\n",
    "    # next = request.args.get('next')\n",
    "    # if next == None or not next[0] == '/':\n",
    "    # next = url_for('user_maintenance')\n",
    "    # return redirect(next)\n"
   ]
  },
  {
   "cell_type": "markdown",
   "metadata": {
    "cell_id": "da140d72d6144ad996246b74291e53c5",
    "deepnote_cell_type": "text-cell-h3",
    "formattedRanges": []
   },
   "source": [
    "### 10-5.新規ユーザー登録時に、パスワードのハッシュ化"
   ]
  },
  {
   "cell_type": "code",
   "execution_count": 20,
   "metadata": {
    "cell_id": "2688903209bb42a49bcb586357e1ad07",
    "deepnote_cell_type": "code",
    "execution_context_id": "6b726d73-6c87-4ffd-83dc-c112424590dc",
    "execution_millis": 0,
    "execution_start": 1736251117586,
    "source_hash": "cc626fb9"
   },
   "outputs": [],
   "source": [
    "  #値の参照\n",
    "  @property\n",
    "  def password(self):\n",
    "    raise AttributeError('password is not a readable attribute')\n",
    "  #値の設定\n",
    "  @password.setter\n",
    "  def password(self, password):\n",
    "      self.password_hash = generate_password_hash(password)\n",
    "\n",
    "  # モデルクラスの初期設定の関数も修正。\n",
    "  #\"password_hash\"から\"hash\"を取り除き、passwordはハッシュ化されていない状態で渡されることを明示する。\n",
    "  #setterでパスワードを受け取ってハッシュ化して、その値を\"password_hash\"に入れられデータベースに登録されるという流れ。\n",
    "  def __init__(self, email, user_name, password):\n",
    "    self.email = email\n",
    "    self.user_name = user_name\n",
    "    self.password = password\n",
    "    \n",
    "  #新規登録のビュー関数\"register\"も修正。\n",
    "  #モデルクラスをインスタンス化する際の引数\"password_hash\"から\"hash\"を取り除く。\n",
    "#   @app.route(\"/register\", methods=[\"GET\", \"POST\"])\n",
    "#   def register():\n",
    "#     form = RegistrationForm()\n",
    "  \n",
    "#     if form.validate_on_submit():\n",
    "#       user = User(email=form.email.data, username=form.username.data, password=form.password.data)\n",
    "#       db.session.add(user)\n",
    "#       db.session.commit()\n",
    "\n",
    "@app.route('/register', methods=['GET', 'POST'])\n",
    "def register():\n",
    "    form = RegistrationForm()  # フォームインスタンスを作成\n",
    "    if form.validate_on_submit():  # フォームが送信され、バリデーションが成功した場合\n",
    "        hashed_password = generate_password_hash(form.password.data)\n",
    "        new_user = User(\n",
    "            user_name=form.user_name.data,\n",
    "            email=form.email.data,\n",
    "            password_hash=hashed_password\n",
    "        )\n",
    "        db.session.add(new_user)\n",
    "        db.session.commit()\n",
    "        return redirect(url_for('login'))  # 登録後、ログインページへリダイレクト\n",
    "    return render_template('register.html', form=form)\n",
    "\n"
   ]
  },
  {
   "cell_type": "markdown",
   "metadata": {
    "cell_id": "5efae94ed44649aba7472c3f40a4a9d4",
    "deepnote_cell_type": "text-cell-h3",
    "formattedRanges": []
   },
   "source": [
    "### 10-6.ログアウト機能\n"
   ]
  },
  {
   "cell_type": "code",
   "execution_count": 21,
   "metadata": {
    "cell_id": "cc6db677978a40c0b9be2d447137aca5",
    "deepnote_cell_type": "code",
    "execution_context_id": "6b726d73-6c87-4ffd-83dc-c112424590dc",
    "execution_millis": 0,
    "execution_start": 1736251117638,
    "source_hash": "cc6ad316"
   },
   "outputs": [],
   "source": [
    "from flask_login import LoginManager, UserMixin, login_user, logout_user, login_required\n",
    "\n",
    "#@login_required　を付けることで、未ログインユーザーはログインページに転送されるようになる。\n",
    "@app.route('/logout')\n",
    "@login_required\n",
    "def logout():\n",
    "    #現在のユーザーをログアウト状態にする\n",
    "    logout_user()\n",
    "    return redirect(url_for('login'))"
   ]
  },
  {
   "cell_type": "markdown",
   "metadata": {
    "cell_id": "c5e0de124bcd4d31a9cabae98d0b39d5",
    "deepnote_cell_type": "text-cell-h3",
    "formattedRanges": []
   },
   "source": [
    "### 10-7.ログインユーザーのみアクセス可能にする"
   ]
  },
  {
   "cell_type": "code",
   "execution_count": 22,
   "metadata": {
    "cell_id": "af3575f78ecf4cb5b5f2529170371c49",
    "deepnote_cell_type": "code",
    "execution_context_id": "6b726d73-6c87-4ffd-83dc-c112424590dc",
    "execution_millis": 1,
    "execution_start": 1736251117690,
    "source_hash": "a79dbb3"
   },
   "outputs": [],
   "source": [
    "#以下のコードでリダイレクトするビュー関数と、エラーメッセージを定義する\n",
    "#ビュー関数\"login\"にリダイレクトするよう定義\n",
    "login_manager.login_view = 'login'\n",
    "\n",
    "# 未ログインユーザーにメッセージ表示\n",
    "def localize_callback(*args, **kwarg):\n",
    "    return 'このページにアクセスするには、ログインが必要です'\n",
    "login_manager.localize_callback = localize_callback"
   ]
  },
  {
   "cell_type": "markdown",
   "metadata": {
    "cell_id": "f26fa1eb004e4daaa3b42b3f6d3ee81a",
    "deepnote_cell_type": "text-cell-h2",
    "formattedRanges": []
   },
   "source": [
    "## 9. アプリケーションでデータを読み出す+テンプレートにデータを渡すプログラミング"
   ]
  },
  {
   "cell_type": "markdown",
   "metadata": {
    "cell_id": "e5db36e570d44d27acdbce17a33cd467",
    "deepnote_cell_type": "text-cell-h3",
    "formattedRanges": []
   },
   "source": [
    "### 9-1. ルート/, GET /blogs 一覧画面（フォーム付き）, POST /blogs データ作成機能"
   ]
  },
  {
   "cell_type": "code",
   "execution_count": 23,
   "metadata": {
    "cell_id": "954c8bd25c5240a3a11a669e87c9affc",
    "deepnote_cell_type": "code",
    "execution_context_id": "6b726d73-6c87-4ffd-83dc-c112424590dc",
    "execution_millis": 0,
    "execution_start": 1736251117747,
    "id": "PhXVJlAnu2Wj",
    "source_hash": "6cc6f8cf"
   },
   "outputs": [],
   "source": [
    "#@title #9-1. ルート/, GET /blogs 一覧画面（フォーム付き）, POST /blogs データ作成機能 （前回と同じ）\n",
    "\n",
    "\n",
    "from datetime import datetime, timedelta\n",
    "from zoneinfo import ZoneInfo\n",
    "from flask import g, render_template, redirect, url_for, request, flash, session\n",
    "\n",
    "#セッションを設定する\n",
    "app.secret_key = 'timestamp'\n",
    "app.permanent_session_lifetime = timedelta(days=5)\n",
    "# /（ルート）にアクセスしたら次に書く関数(home)を実行するという宣言\n",
    "@app.route(\"/\")\n",
    "def home():\n",
    "    return render_template('home.html')\n",
    "\n",
    "# /posts にHTTPメソッドがGETでアクセスしたblog_index関数を実行する\n",
    "@app.get(\"/posts\")\n",
    "def post_index():\n",
    "   #データベースからデータを引き出す（オブジェクトのリストの形で帰ってくる）\n",
    "    # https://msiz07-flask-docs-ja.readthedocs.io/ja/latest/patterns/sqlalchemy.html#declarative\n",
    "    # データベースから投稿を取得\n",
    "    posts = Post.query.all()\n",
    "    tags = Tag.query.all()\n",
    "    # テンプレートにblogs変数を渡す\n",
    "    return render_template('all_post2_copy.html', posts = posts,tags =tags, post = Post())\n",
    "\n",
    "# /posts にHTTPメソッドがPOSTでアクセスしたblog_create関数を実行する\n",
    "@app.route(\"/new\", methods=[\"GET\", \"POST\"])\n",
    "@login_required  # このデコレータを追加することでログイン必須に\n",
    "def post_create():\n",
    "    if request.method == \"POST\":\n",
    "        # フォームの値を取得してバリデーション\n",
    "        title = request.form.get(\"title\")\n",
    "        # user_id = request.form.get(\"user_id\")\n",
    "        user_id = current_user.id\n",
    "        user_name = current_user.user_name\n",
    "        # user_name = request.form.get(\"user_name\")\n",
    "        body = request.form.get(\"body\")\n",
    "        address = request.form.get(\"address\")\n",
    "        memo = request.form.get(\"memo\")\n",
    "        private = request.form.get(\"private\")\n",
    "\n",
    "        if not title or not user_name or not body:\n",
    "            flash(\"タイトル、ユーザー名、本文は必須項目です。\")\n",
    "            return redirect(url_for(\"post_create\"))\n",
    "\n",
    "        # 投稿データを保存\n",
    "        try:\n",
    "            post = Post(\n",
    "                title=title,\n",
    "                user_name=user_name,#一時的に追加\n",
    "                user_id=user_id, #一時的に追加\n",
    "                body=body,\n",
    "                address=address,\n",
    "                memo=memo,\n",
    "                private=private,\n",
    "            )\n",
    "            db.session.add(post)\n",
    "            db.session.commit()\n",
    "            flash(\"投稿が作成されました。\")\n",
    "            return redirect(url_for(\"post_index\"))\n",
    "        except Exception as e:\n",
    "            flash(f\"予期せぬエラー: {e}\")\n",
    "            return redirect(url_for(\"post_create\"))\n",
    "\n",
    "    # GETリクエスト時: フォーム画面を表示\n",
    "    return render_template('new_post.html')"
   ]
  },
  {
   "cell_type": "markdown",
   "metadata": {
    "cell_id": "b23a02a8ca7141a8a66e01272de0942f",
    "deepnote_cell_type": "text-cell-h3",
    "formattedRanges": []
   },
   "source": [
    "### 9-2 GET /blogs/:id 更新用フォーム、Post(気持ちはpatch) /blogs/:id 更新処理"
   ]
  },
  {
   "cell_type": "code",
   "execution_count": 24,
   "metadata": {
    "cell_id": "92831d9f10c446939109f3494f7096e3",
    "deepnote_cell_type": "code",
    "execution_context_id": "6b726d73-6c87-4ffd-83dc-c112424590dc",
    "execution_millis": 0,
    "execution_start": 1736251117804,
    "id": "SD-YguXVEadJ",
    "source_hash": "25f11195"
   },
   "outputs": [],
   "source": [
    "# @title 9-2 GET /blogs/:id 更新用フォーム、Post(気持ちはpatch) /blogs/:id 更新処理\n",
    "\n",
    "@app.get('/posts/<string:id>')\n",
    "def get_post(id):\n",
    "    # 指定のidのpostオブジェクトを取得する\n",
    "    post = db.get_or_404(Post, id)\n",
    "    # https://flask-sqlalchemy.readthedocs.io/en/3.1.x/queries/#queries-for-views\n",
    "    return render_template('detail.html', post = post)\n",
    "\n",
    "#🪵postの編集&再投稿ページ\n",
    "@app.get('/posts/<string:id>/edit')\n",
    "@login_required  # このデコレータを追加することでログイン必須に\n",
    "def edit_post(id):\n",
    "    # 指定のidのblogオブジェクトを取得する\n",
    "    post = db.get_or_404(Post, id)\n",
    "    # post.likes = post.likes + 1\n",
    "    # print(\"いいね数は\"+str(post.likes))\n",
    "    # https://flask-sqlalchemy.readthedocs.io/en/3.1.x/queries/#queries-for-views\n",
    "    return render_template('new_post.html', post = post)    \n",
    "\n",
    "@app.post('/posts/<string:id>')\n",
    "def update_post(id):\n",
    "    # 指定のidのpostオブジェクトを取得する\n",
    "    post = db.get_or_404(Post, id)\n",
    "\n",
    "    # 更新処理の場合\n",
    "    if request.form.get('_method') == 'PATCH':\n",
    "        try:\n",
    "            post.title = request.form[\"title\"]\n",
    "            post.user_name = request.form[\"user_name\"]\n",
    "            post.body = request.form[\"body\"]\n",
    "            post.address = request.form[\"address\"]\n",
    "            post.memo = request.form[\"memo\"]\n",
    "            post.created_at = datetime.utcnow()\n",
    "            # post.private = request.form[\"private\"]\n",
    "            post.private = False\n",
    "            post.likes = 0\n",
    "            db.session.commit()\n",
    "            flash(\"データを更新しました\")\n",
    "        except ValueError as ve:\n",
    "            flash(f\"入力が不足しています#{ve}\")\n",
    "        except Exception as e:\n",
    "            flash(f\"予期せぬエラー #{e}\")\n",
    "        # 編集画面にGETでリダイレクトする\n",
    "        return redirect(url_for(\"get_post\", id=id))\n",
    "    # 削除リクエストの場合\n",
    "    elif request.form.get('_method') == 'DELETE':\n",
    "        db.session.delete(post)\n",
    "        db.session.commit()\n",
    "        # 一覧画面にGETでリダイレクトする\n",
    "        return redirect(url_for(\"post_index\"))"
   ]
  },
  {
   "cell_type": "markdown",
   "metadata": {
    "cell_id": "a5de4f9e2e164573822f5c0520bb376b",
    "deepnote_cell_type": "markdown",
    "id": "EhIOrf87RjS4"
   },
   "source": [
    "https://flask.palletsprojects.com/en/stable/patterns/javascript/"
   ]
  },
  {
   "cell_type": "markdown",
   "metadata": {
    "cell_id": "17cb44070d74429f9ddc797975176322",
    "deepnote_cell_type": "text-cell-h3",
    "formattedRanges": []
   },
   "source": [
    "### 🪵9-2-2 いいねカウンターの実装 #1/2 りおちん"
   ]
  },
  {
   "cell_type": "code",
   "execution_count": 25,
   "metadata": {
    "cell_id": "3b47fc5c0ae147d1b7312ee4524f5656",
    "deepnote_cell_type": "code",
    "execution_context_id": "6b726d73-6c87-4ffd-83dc-c112424590dc",
    "execution_millis": 1,
    "execution_start": 1736251117858,
    "source_hash": "8f79f1ec"
   },
   "outputs": [],
   "source": [
    "# 🪵1/6 いいねカウンターのルートを修正 \n",
    "@app.route('/posts/<int:post_id>/like', methods=['POST'])\n",
    "def like_post(post_id):\n",
    "    post = Post.query.get(post_id)\n",
    "    \n",
    "    if post:\n",
    "        post.likes += 1\n",
    "        db.session.commit()  # データベースの更新\n",
    "        print(\"いいね数は\"+str(post.likes))\n",
    "        return jsonify({'likes': post.likes}), 200\n",
    "    else:\n",
    "        return jsonify({'error': 'Post not found'}), 404\n"
   ]
  },
  {
   "cell_type": "markdown",
   "metadata": {
    "cell_id": "ff42b977968e482093e0c4d5ce139b42",
    "deepnote_cell_type": "text-cell-h3",
    "formattedRanges": []
   },
   "source": [
    "### 9-4 Post /blogs/:id/tag フォームで送られてきたタグをブログに紐づける"
   ]
  },
  {
   "cell_type": "code",
   "execution_count": 26,
   "metadata": {
    "cell_id": "09bf88e30b304a0d9271cef70c761957",
    "deepnote_cell_type": "code",
    "execution_context_id": "6b726d73-6c87-4ffd-83dc-c112424590dc",
    "execution_millis": 0,
    "execution_start": 1736251117926,
    "id": "SoyBnFBlW4SF",
    "source_hash": "8296df1e"
   },
   "outputs": [],
   "source": [
    "# @title #9-4 Post /blogs/:id/tag フォームで送られてきたタグをブログに紐づける\n",
    "@app.post('/posts/<string:id>/tag')\n",
    "def create_tag(id):\n",
    "\n",
    "  post = db.get_or_404(Post, id)\n",
    "  tag_name = request.form[\"name\"]\n",
    "  tag = Tag.query.filter_by(name=tag_name).first() # nameで登録済みのタグを探す\n",
    "  if tag is None:\n",
    "    tag = Tag(name = tag_name) # もしなければTagを作る\n",
    "    db.session.add(tag)\n",
    "    db.session.commit()\n",
    "  post.tags.append(tag)  # blogにタグを紐づける\n",
    "  db.session.commit()\n",
    "  # 確認コード例 (SQLAlchemyの場合)\n",
    "  print(post.tags)  # データベースから取得した後、正しいタグリストが含まれているか\n",
    "\n",
    "  return redirect(url_for(\"get_post\", id = post.id))"
   ]
  },
  {
   "cell_type": "markdown",
   "metadata": {
    "cell_id": "97f4a89a752a42be820bcdd37c9eab4b",
    "deepnote_cell_type": "markdown",
    "id": "PSDnOKs02tIW"
   },
   "source": []
  },
  {
   "cell_type": "markdown",
   "metadata": {
    "cell_id": "8e1d70d9b0f246cf9548dd2a5fb163c7",
    "deepnote_cell_type": "text-cell-h2",
    "formattedRanges": []
   },
   "source": [
    "## 11.アプリケーションを立ち上げる"
   ]
  },
  {
   "cell_type": "code",
   "execution_count": 32,
   "metadata": {
    "cellView": "form",
    "cell_id": "a333b5e17f2d489789e8a18d9576588e",
    "colab": {
     "base_uri": "https://localhost:8080/"
    },
    "deepnote_cell_type": "code",
    "execution_context_id": "6b726d73-6c87-4ffd-83dc-c112424590dc",
    "execution_millis": 37644,
    "execution_start": 1736252233499,
    "id": "S4IhqcmUy8X5",
    "outputId": "9ab478b9-46d6-4994-953b-1bdd24e3b5d9",
    "source_hash": "6b256e7f"
   },
   "outputs": [
    {
     "name": "stderr",
     "output_type": "stream",
     "text": [
      "t=2025-01-07T12:17:14+0000 lvl=warn msg=\"can't bind default web address, trying alternatives\" obj=web addr=127.0.0.1:4040\n",
      "ngrok URL: NgrokTunnel: \"https://0deb-3-220-159-34.ngrok-free.app\" -> \"http://localhost:2000\"\n",
      " * Serving Flask app '__main__'\n",
      " * Debug mode: off\n",
      "\u001b[31m\u001b[1mWARNING: This is a development server. Do not use it in a production deployment. Use a production WSGI server instead.\u001b[0m\n",
      " * Running on http://127.0.0.1:2000\n",
      "\u001b[33mPress CTRL+C to quit\u001b[0m\n",
      "127.0.0.1 - - [07/Jan/2025 12:17:26] \"GET / HTTP/1.1\" 200 -\n",
      "127.0.0.1 - - [07/Jan/2025 12:17:27] \"\u001b[33mGET /api/placeholder/32/32 HTTP/1.1\u001b[0m\" 404 -\n",
      "127.0.0.1 - - [07/Jan/2025 12:17:27] \"GET /static/css/home.css HTTP/1.1\" 200 -\n",
      "127.0.0.1 - - [07/Jan/2025 12:17:28] \"GET /static/css/style.css HTTP/1.1\" 200 -\n",
      "127.0.0.1 - - [07/Jan/2025 12:17:28] \"GET /static/js/script.js HTTP/1.1\" 200 -\n",
      "127.0.0.1 - - [07/Jan/2025 12:17:28] \"\u001b[33mGET /favicon.ico HTTP/1.1\u001b[0m\" 404 -\n",
      "127.0.0.1 - - [07/Jan/2025 12:17:30] \"GET /posts HTTP/1.1\" 200 -\n",
      "127.0.0.1 - - [07/Jan/2025 12:17:31] \"\u001b[33mGET /api/placeholder/32/32 HTTP/1.1\u001b[0m\" 404 -\n",
      "127.0.0.1 - - [07/Jan/2025 12:17:31] \"\u001b[36mGET /static/css/style.css HTTP/1.1\u001b[0m\" 304 -\n",
      "127.0.0.1 - - [07/Jan/2025 12:17:31] \"\u001b[36mGET /static/js/script.js HTTP/1.1\u001b[0m\" 304 -\n",
      "127.0.0.1 - - [07/Jan/2025 12:17:31] \"GET /static/css/all_post.css HTTP/1.1\" 200 -\n",
      "127.0.0.1 - - [07/Jan/2025 12:17:33] \"\u001b[32mGET /new HTTP/1.1\u001b[0m\" 302 -\n",
      "127.0.0.1 - - [07/Jan/2025 12:17:33] \"GET /login?next=/new HTTP/1.1\" 200 -\n",
      "127.0.0.1 - - [07/Jan/2025 12:17:34] \"\u001b[33mGET /api/placeholder/32/32 HTTP/1.1\u001b[0m\" 404 -\n",
      "127.0.0.1 - - [07/Jan/2025 12:17:34] \"\u001b[36mGET /static/css/style.css HTTP/1.1\u001b[0m\" 304 -\n",
      "127.0.0.1 - - [07/Jan/2025 12:17:34] \"GET /static/css/login.css HTTP/1.1\" 200 -\n",
      "127.0.0.1 - - [07/Jan/2025 12:17:34] \"\u001b[36mGET /static/js/script.js HTTP/1.1\u001b[0m\" 304 -\n"
     ]
    }
   ],
   "source": [
    "#@title #10.アプリケーションを立ち上げる\n",
    "\n",
    "if __name__ == \"__main__\":\n",
    "    public_url = ngrok.connect(2000)\n",
    "    print(f\"ngrok URL: {public_url}\")\n",
    "    app.run(port=2000)"
   ]
  },
  {
   "cell_type": "markdown",
   "metadata": {
    "created_in_deepnote_cell": true,
    "deepnote_cell_type": "markdown"
   },
   "source": [
    "<a style='text-decoration:none;line-height:16px;display:flex;color:#5B5B62;padding:10px;justify-content:end;' href='https://deepnote.com?utm_source=created-in-deepnote-cell&projectId=5456fa35-ea0f-4cee-9aed-01d78c91284d' target=\"_blank\">\n",
    "<img alt='Created in deepnote.com' style='display:inline;max-height:16px;margin:0px;margin-right:7.5px;' src='data:image/svg+xml;base64,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' > </img>\n",
    "Created in <span style='font-weight:600;margin-left:4px;'>Deepnote</span></a>"
   ]
  }
 ],
 "metadata": {
  "deepnote_app_layout": "powerful-article",
  "deepnote_app_reactivity_enabled": true,
  "deepnote_notebook_id": "6052e61a37d84cca8a7b1b6657ce335f",
  "language_info": {
   "name": "python"
  }
 },
 "nbformat": 4,
 "nbformat_minor": 0
}
