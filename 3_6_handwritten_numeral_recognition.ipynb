{
  "nbformat": 4,
  "nbformat_minor": 0,
  "metadata": {
    "colab": {
      "provenance": [],
      "authorship_tag": "ABX9TyP/bSIAukT3t6K2gXw52SKx",
      "include_colab_link": true
    },
    "kernelspec": {
      "name": "python3",
      "display_name": "Python 3"
    },
    "language_info": {
      "name": "python"
    }
  },
  "cells": [
    {
      "cell_type": "markdown",
      "metadata": {
        "id": "view-in-github",
        "colab_type": "text"
      },
      "source": [
        "<a href=\"https://colab.research.google.com/github/Riochin/Apology_work/blob/main/3_6_handwritten_numeral_recognition.ipynb\" target=\"_parent\"><img src=\"https://colab.research.google.com/assets/colab-badge.svg\" alt=\"Open In Colab\"/></a>"
      ]
    },
    {
      "cell_type": "markdown",
      "source": [
        "# 3.6 手書き数字の認識"
      ],
      "metadata": {
        "id": "1_d30b3YgxYe"
      }
    },
    {
      "cell_type": "markdown",
      "source": [
        "## 3.6.1 MNISTデータセット\n",
        "\n",
        "> MNISTデータセットは、0から9までの数字画像から構成されます（図3-24）。訓練画像が60,000枚、テスト画像が10,000枚用意されており、それらの画像を使用して、学習と推論を行います。"
      ],
      "metadata": {
        "id": "HsY5Nj60g1j4"
      }
    },
    {
      "cell_type": "markdown",
      "source": [
        "### load_mnist関数：\n",
        "- normalize: 入力画像の正規化（T/F）\n",
        "- flatten: 入力画像を１次元配列にするか（T/F） Fで三次元\n",
        "- one_hot_label: one-hot表現として格納するか（T/F）"
      ],
      "metadata": {
        "id": "7rEBFDpChAhJ"
      }
    },
    {
      "source": [
        "from mnist import load_mnist\n",
        "\n",
        "(x_train, t_train), (x_test, t_test) = \\\n",
        "  load_mnist(flatten=True, normalize=False)\n",
        "\n",
        "print(x_train.shape)\n",
        "print(t_train.shape)\n",
        "print(x_test.shape)\n",
        "print(t_test.shape)"
      ],
      "cell_type": "code",
      "metadata": {
        "colab": {
          "base_uri": "https://localhost:8080/"
        },
        "id": "G1VxbZ6_gUMu",
        "outputId": "fae2f14f-3dcd-43be-d07d-925175ce3629"
      },
      "execution_count": 3,
      "outputs": [
        {
          "output_type": "stream",
          "name": "stdout",
          "text": [
            "(60000, 784)\n",
            "(60000,)\n",
            "(10000, 784)\n",
            "(10000,)\n"
          ]
        }
      ]
    },
    {
      "cell_type": "markdown",
      "source": [
        "### MNIST画像の表示"
      ],
      "metadata": {
        "id": "7HUEUdP9hzDm"
      }
    },
    {
      "cell_type": "code",
      "source": [
        "import numpy as np\n",
        "from PIL import Image\n",
        "\n",
        "def img_show(img):\n",
        "  pil_img = Image.fromarray(np.uint8(img))\n",
        "  pil_img.show()\n",
        "\n",
        "(x_train, t_train), (x_test, t_test) = \\\n",
        "    load_mnist(flatten=True, normalize=False)\n",
        "\n",
        "img = x_train[0]\n",
        "label = t_train[0]\n",
        "print(label) #5\n",
        "\n",
        "print(img.shape)\n",
        "img = img.reshape(28,28)\n",
        "print(img.shape)\n",
        "\n",
        "img_show(img)"
      ],
      "metadata": {
        "colab": {
          "base_uri": "https://localhost:8080/"
        },
        "id": "3N6wKtsBh2E2",
        "outputId": "a11a0255-59db-469f-d6c1-1e430e659bdb"
      },
      "execution_count": 4,
      "outputs": [
        {
          "output_type": "stream",
          "name": "stdout",
          "text": [
            "5\n",
            "(784,)\n",
            "(28, 28)\n"
          ]
        }
      ]
    },
    {
      "cell_type": "markdown",
      "source": [
        "## 3.6.2 ニューラルネットワークの推論処理"
      ],
      "metadata": {
        "id": "UpKlcWf0VrXZ"
      }
    },
    {
      "cell_type": "markdown",
      "source": [
        "### ソフトマックス関数の定義"
      ],
      "metadata": {
        "id": "tz6AXfELf-pz"
      }
    },
    {
      "cell_type": "code",
      "source": [
        "def softmax(a):\n",
        "  exp_a = np.exp(a)\n",
        "  sum_exp_a = np.sum(exp_a)\n",
        "  y = exp_a / sum_exp_a\n",
        "\n",
        "  return y"
      ],
      "metadata": {
        "id": "r0G5TXqpbk82"
      },
      "execution_count": 7,
      "outputs": []
    },
    {
      "cell_type": "markdown",
      "source": [
        "### シグモイド関数の定義"
      ],
      "metadata": {
        "id": "_ycKv-YygBX1"
      }
    },
    {
      "cell_type": "code",
      "source": [
        "def sigmoid(x):\n",
        "  return 1 / (1 + np.exp(-x))"
      ],
      "metadata": {
        "id": "YQe_IiNRgDUT"
      },
      "execution_count": 8,
      "outputs": []
    },
    {
      "cell_type": "markdown",
      "source": [
        "### a"
      ],
      "metadata": {
        "id": "Juz6v8ZEjtRk"
      }
    },
    {
      "cell_type": "code",
      "source": [
        "import pickle\n",
        "\n",
        "def get_data():\n",
        "  (x_train, t_train), (x_test, t_test) = \\\n",
        "    load_mnist(normalize=True, flatten=True, one_hot_label=False)\n",
        "  return x_test, t_test\n",
        "\n",
        "def init_network():\n",
        "  with open(\"sample_weight.pkl\", 'rb') as f:\n",
        "    network = pickle.load(f)\n",
        "\n",
        "  return network\n",
        "\n",
        "def predict(network, x):\n",
        "  W1, W2, W3 = network['W1'], network['W2'], network['W3']\n",
        "  b1, b2, b3 = network['b1'], network['b2'], network['b3']\n",
        "\n",
        "  a1 = np.dot(x, W1) + b1\n",
        "  z1 = sigmoid(a1)\n",
        "  a2 = np.dot(z1, W2) + b2\n",
        "  z2 = sigmoid(a2)\n",
        "  a3 = np.dot(z2, W3) + b3\n",
        "  y = softmax(a3)\n",
        "\n",
        "  return y"
      ],
      "metadata": {
        "id": "PNWyeS3kWedX"
      },
      "execution_count": 13,
      "outputs": []
    },
    {
      "cell_type": "code",
      "source": [
        "x, t = get_data()\n",
        "network = init_network()\n",
        "\n",
        "accuracy_cnt = 0\n",
        "for i in range(len(x)):\n",
        "  y = predict(network, x[i])\n",
        "  p = np.argmax(y)\n",
        "  if p == t[i]:\n",
        "    accuracy_cnt += 1\n",
        "\n",
        "print(\"Accuracy:\" + str(float(accuracy_cnt) / len(x)))"
      ],
      "metadata": {
        "colab": {
          "base_uri": "https://localhost:8080/"
        },
        "id": "lA3Xvxf5lmB8",
        "outputId": "3a5536c4-85e8-4bea-eb35-50f75359ce26"
      },
      "execution_count": 14,
      "outputs": [
        {
          "output_type": "stream",
          "name": "stdout",
          "text": [
            "Accuracy:0.9352\n"
          ]
        }
      ]
    },
    {
      "cell_type": "markdown",
      "source": [
        "normalizeをTrueに設定すると、データが0.0 ~ 1.0の範囲に収まる（255で割っている）"
      ],
      "metadata": {
        "id": "LCmvgcwounh_"
      }
    },
    {
      "cell_type": "markdown",
      "source": [
        "## 3.6.3 バッチ処理"
      ],
      "metadata": {
        "id": "6TfVTa6_vzCy"
      }
    },
    {
      "cell_type": "markdown",
      "source": [
        "### 各層の重みの形状を出力"
      ],
      "metadata": {
        "id": "_InmqIPBv1jd"
      }
    },
    {
      "cell_type": "code",
      "source": [
        "x, _ = get_data()\n",
        "network = init_network()\n",
        "W1, W2, W3 = network['W1'], network['W2'], network['W3']\n",
        "\n",
        "x.shape\n",
        "\n",
        "print(\"W[0]の形状\"+ str(x[0].shape))\n",
        "\n",
        "print(\"W1の形状\"+str(W1.shape))\n",
        "\n",
        "print(\"W2の形状\"+str(W2.shape))\n",
        "\n",
        "print(\"W3の形状\"+str(W3.shape))\n"
      ],
      "metadata": {
        "colab": {
          "base_uri": "https://localhost:8080/"
        },
        "id": "hXfEEiCTv0Kn",
        "outputId": "2d0988d5-d9a4-4482-b31b-364cb21f5d20"
      },
      "execution_count": 18,
      "outputs": [
        {
          "output_type": "stream",
          "name": "stdout",
          "text": [
            "W[0]の形状(784,)\n",
            "W1の形状(784, 50)\n",
            "W2の形状(50, 100)\n",
            "W3の形状(100, 10)\n"
          ]
        }
      ]
    },
    {
      "cell_type": "code",
      "source": [
        "x, t = get_data()\n",
        "network = init_network()\n",
        "batch_size = 100\n",
        "accuracy_cnt = 0\n",
        "\n",
        "for i in range(0, len(x), batch_size):\n",
        "  x_batch = x[i:i+batch_size]\n",
        "  y_batch = predict(network, x_batch)\n",
        "  p = np.argmax(y_batch, axis=1)\n",
        "  accuracy_cnt += np.sum(p == t[i:i+batch_size])\n",
        "\n",
        "print(\"Accuracy:\" + str(float(accuracy_cnt) / len(x)))"
      ],
      "metadata": {
        "id": "Xn2OlkOrz_Vp"
      },
      "execution_count": null,
      "outputs": []
    }
  ]
}