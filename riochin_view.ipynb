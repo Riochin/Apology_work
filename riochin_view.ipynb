{
 "cells": [
  {
   "cell_type": "markdown",
   "metadata": {
    "cell_id": "a609b58eeff84436a187082eefcb38f8",
    "deepnote_cell_type": "markdown",
    "id": "3_uWVRpy8jK-"
   },
   "source": []
  },
  {
   "cell_type": "markdown",
   "metadata": {
    "cell_id": "0760166fea2c414881b86946dd7fb0de",
    "deepnote_cell_type": "text-cell-h1",
    "formattedRanges": []
   },
   "source": [
    "# 1.　ngrokのauth_tokeを設定して前回の内容を実行[事前準備、設定]"
   ]
  },
  {
   "cell_type": "code",
   "execution_count": 1,
   "metadata": {
    "cell_id": "a5bb0eae75ec4b6c8f898292f5ee9102",
    "colab": {
     "base_uri": "https://localhost:8080/"
    },
    "deepnote_cell_type": "code",
    "execution_context_id": "06493cbe-cf60-4db9-aebe-bf9264d6d17d",
    "execution_millis": 16228,
    "execution_start": 1735748708139,
    "id": "mJxNWy4zN7wm",
    "outputId": "ed4ea1e1-47a8-43f8-889e-b929857ca40a",
    "source_hash": "f523e944"
   },
   "outputs": [
    {
     "name": "stdout",
     "output_type": "stream",
     "text": [
      "Requirement already satisfied: pip in /root/venv/lib/python3.9/site-packages (24.3.1)\n",
      "Requirement already satisfied: flask in /root/venv/lib/python3.9/site-packages (3.1.0)\n",
      "Requirement already satisfied: pyngrok in /root/venv/lib/python3.9/site-packages (7.2.2)\n",
      "Requirement already satisfied: Werkzeug>=3.1 in /root/venv/lib/python3.9/site-packages (from flask) (3.1.3)\n",
      "Requirement already satisfied: Jinja2>=3.1.2 in /shared-libs/python3.9/py-core/lib/python3.9/site-packages (from flask) (3.1.2)\n",
      "Requirement already satisfied: itsdangerous>=2.2 in /root/venv/lib/python3.9/site-packages (from flask) (2.2.0)\n",
      "Requirement already satisfied: click>=8.1.3 in /shared-libs/python3.9/py/lib/python3.9/site-packages (from flask) (8.1.3)\n",
      "Requirement already satisfied: blinker>=1.9 in /root/venv/lib/python3.9/site-packages (from flask) (1.9.0)\n",
      "Requirement already satisfied: importlib-metadata>=3.6 in /shared-libs/python3.9/py/lib/python3.9/site-packages (from flask) (5.0.0)\n",
      "Requirement already satisfied: PyYAML>=5.1 in /root/venv/lib/python3.9/site-packages (from pyngrok) (6.0.2)\n",
      "Requirement already satisfied: zipp>=0.5 in /shared-libs/python3.9/py/lib/python3.9/site-packages (from importlib-metadata>=3.6->flask) (3.9.0)\n",
      "Requirement already satisfied: MarkupSafe>=2.0 in /shared-libs/python3.9/py-core/lib/python3.9/site-packages (from Jinja2>=3.1.2->flask) (2.0.0)\n",
      "Collecting MarkupSafe>=2.0 (from Jinja2>=3.1.2->flask)\n",
      "  Using cached MarkupSafe-3.0.2-cp39-cp39-manylinux_2_17_x86_64.manylinux2014_x86_64.whl.metadata (4.0 kB)\n",
      "Using cached MarkupSafe-3.0.2-cp39-cp39-manylinux_2_17_x86_64.manylinux2014_x86_64.whl (20 kB)\n",
      "Installing collected packages: MarkupSafe\n",
      "  Attempting uninstall: MarkupSafe\n",
      "    Found existing installation: MarkupSafe 2.0.0\n",
      "    Not uninstalling markupsafe at /shared-libs/python3.9/py-core/lib/python3.9/site-packages, outside environment /root/venv\n",
      "    Can't uninstall 'MarkupSafe'. No files were found to uninstall.\n",
      "Successfully installed MarkupSafe-3.0.2\n"
     ]
    }
   ],
   "source": [
    "#@title #1.　ngrokのauth_tokeを設定して前回の内容を実行[事前準備、設定]\n",
    "\n",
    "!pip install --upgrade pip #12/27 21:46追加\n",
    "\n",
    "# 1,2 Flask, pyngrokのインストール\n",
    "!pip install flask pyngrok\n",
    "#  必要なモジュールのimport\n",
    "import os\n",
    "# flaskからFlaskクラスをインポート\n",
    "from flask import Flask\n",
    "# pyngrokからngrokモジュールとconfモジュールをインポート\n",
    "from pyngrok import ngrok, conf\n",
    "# 設定\n",
    "# ngrokトークンを設定\n",
    "conf.get_default().auth_token = \"\" #ここに自分のNgrokトークンを入れてください！！！！！\n"
   ]
  },
  {
   "cell_type": "markdown",
   "metadata": {
    "cell_id": "c55ba3042d2e47769fd0eb3d8aa6f4eb",
    "deepnote_cell_type": "text-cell-h2",
    "formattedRanges": []
   },
   "source": [
    "## 1-2 Flask-SQLAlchemyのインストール"
   ]
  },
  {
   "cell_type": "code",
   "execution_count": 2,
   "metadata": {
    "cell_id": "bd48205d67be4ffcb3795097cbd7f4f9",
    "colab": {
     "base_uri": "https://localhost:8080/"
    },
    "deepnote_cell_type": "code",
    "execution_context_id": "06493cbe-cf60-4db9-aebe-bf9264d6d17d",
    "execution_millis": 8378,
    "execution_start": 1735748724411,
    "id": "F88Oqz7PERzS",
    "outputId": "c85cfbed-551e-479b-cd4a-53a3104919f3",
    "source_hash": "ba2f413"
   },
   "outputs": [
    {
     "name": "stdout",
     "output_type": "stream",
     "text": [
      "Requirement already satisfied: flask-sqlalchemy in /root/venv/lib/python3.9/site-packages (3.1.1)\n",
      "Requirement already satisfied: flask>=2.2.5 in /root/venv/lib/python3.9/site-packages (from flask-sqlalchemy) (3.1.0)\n",
      "Requirement already satisfied: sqlalchemy>=2.0.16 in /root/venv/lib/python3.9/site-packages (from flask-sqlalchemy) (2.0.36)\n",
      "Requirement already satisfied: Werkzeug>=3.1 in /root/venv/lib/python3.9/site-packages (from flask>=2.2.5->flask-sqlalchemy) (3.1.3)\n",
      "Requirement already satisfied: Jinja2>=3.1.2 in /shared-libs/python3.9/py-core/lib/python3.9/site-packages (from flask>=2.2.5->flask-sqlalchemy) (3.1.2)\n",
      "Requirement already satisfied: itsdangerous>=2.2 in /root/venv/lib/python3.9/site-packages (from flask>=2.2.5->flask-sqlalchemy) (2.2.0)\n",
      "Requirement already satisfied: click>=8.1.3 in /shared-libs/python3.9/py/lib/python3.9/site-packages (from flask>=2.2.5->flask-sqlalchemy) (8.1.3)\n",
      "Requirement already satisfied: blinker>=1.9 in /root/venv/lib/python3.9/site-packages (from flask>=2.2.5->flask-sqlalchemy) (1.9.0)\n",
      "Requirement already satisfied: importlib-metadata>=3.6 in /shared-libs/python3.9/py/lib/python3.9/site-packages (from flask>=2.2.5->flask-sqlalchemy) (5.0.0)\n",
      "Requirement already satisfied: typing-extensions>=4.6.0 in /root/venv/lib/python3.9/site-packages (from sqlalchemy>=2.0.16->flask-sqlalchemy) (4.12.2)\n",
      "Requirement already satisfied: greenlet!=0.4.17 in /shared-libs/python3.9/py/lib/python3.9/site-packages (from sqlalchemy>=2.0.16->flask-sqlalchemy) (1.1.3.post0)\n",
      "Requirement already satisfied: zipp>=0.5 in /shared-libs/python3.9/py/lib/python3.9/site-packages (from importlib-metadata>=3.6->flask>=2.2.5->flask-sqlalchemy) (3.9.0)\n",
      "Requirement already satisfied: MarkupSafe>=2.0 in /shared-libs/python3.9/py-core/lib/python3.9/site-packages (from Jinja2>=3.1.2->flask>=2.2.5->flask-sqlalchemy) (2.0.0)\n",
      "Collecting MarkupSafe>=2.0 (from Jinja2>=3.1.2->flask>=2.2.5->flask-sqlalchemy)\n",
      "  Using cached MarkupSafe-3.0.2-cp39-cp39-manylinux_2_17_x86_64.manylinux2014_x86_64.whl.metadata (4.0 kB)\n",
      "Using cached MarkupSafe-3.0.2-cp39-cp39-manylinux_2_17_x86_64.manylinux2014_x86_64.whl (20 kB)\n",
      "Installing collected packages: MarkupSafe\n",
      "  Attempting uninstall: MarkupSafe\n",
      "    Found existing installation: MarkupSafe 2.0.0\n",
      "    Not uninstalling markupsafe at /shared-libs/python3.9/py-core/lib/python3.9/site-packages, outside environment /root/venv\n",
      "    Can't uninstall 'MarkupSafe'. No files were found to uninstall.\n",
      "Successfully installed MarkupSafe-3.0.2\n"
     ]
    }
   ],
   "source": [
    "# @title 1-2 Flask-SQLAlchemyのインストール\n",
    "!pip install --upgrade flask-sqlalchemy"
   ]
  },
  {
   "cell_type": "markdown",
   "metadata": {
    "cell_id": "41b64be1ede84324ae5cbfa1eb8fc1b8",
    "deepnote_cell_type": "text-cell-h2",
    "formattedRanges": []
   },
   "source": [
    "## 1-3 OpenAIライブラリのインストール"
   ]
  },
  {
   "cell_type": "code",
   "execution_count": 3,
   "metadata": {
    "cell_id": "fc447b5019b84bc385e37547aa30cab6",
    "colab": {
     "base_uri": "https://localhost:8080/"
    },
    "deepnote_cell_type": "code",
    "execution_context_id": "06493cbe-cf60-4db9-aebe-bf9264d6d17d",
    "execution_millis": 6718,
    "execution_start": 1735748732895,
    "id": "kzf9gmtDx9CO",
    "outputId": "8edcbc52-6e7d-41c6-fe6d-101678177b45",
    "source_hash": "d84b248d"
   },
   "outputs": [
    {
     "name": "stdout",
     "output_type": "stream",
     "text": [
      "Requirement already satisfied: openai==1.55.3 in /root/venv/lib/python3.9/site-packages (1.55.3)\n",
      "Requirement already satisfied: httpx==0.27.2 in /root/venv/lib/python3.9/site-packages (0.27.2)\n",
      "Collecting anyio==3.7.0\n",
      "  Using cached anyio-3.7.0-py3-none-any.whl.metadata (4.7 kB)\n",
      "Requirement already satisfied: distro<2,>=1.7.0 in /root/venv/lib/python3.9/site-packages (from openai==1.55.3) (1.9.0)\n",
      "Requirement already satisfied: jiter<1,>=0.4.0 in /root/venv/lib/python3.9/site-packages (from openai==1.55.3) (0.8.2)\n",
      "Requirement already satisfied: pydantic<3,>=1.9.0 in /shared-libs/python3.9/py/lib/python3.9/site-packages (from openai==1.55.3) (1.10.2)\n",
      "Requirement already satisfied: sniffio in /shared-libs/python3.9/py-core/lib/python3.9/site-packages (from openai==1.55.3) (1.3.0)\n",
      "Requirement already satisfied: tqdm>4 in /shared-libs/python3.9/py/lib/python3.9/site-packages (from openai==1.55.3) (4.64.1)\n",
      "Requirement already satisfied: typing-extensions<5,>=4.11 in /root/venv/lib/python3.9/site-packages (from openai==1.55.3) (4.12.2)\n",
      "Requirement already satisfied: certifi in /shared-libs/python3.9/py/lib/python3.9/site-packages (from httpx==0.27.2) (2022.9.24)\n",
      "Requirement already satisfied: httpcore==1.* in /root/venv/lib/python3.9/site-packages (from httpx==0.27.2) (1.0.7)\n",
      "Requirement already satisfied: idna in /shared-libs/python3.9/py-core/lib/python3.9/site-packages (from httpx==0.27.2) (3.4)\n",
      "Requirement already satisfied: exceptiongroup in /root/venv/lib/python3.9/site-packages (from anyio==3.7.0) (1.2.2)\n",
      "Requirement already satisfied: h11<0.15,>=0.13 in /root/venv/lib/python3.9/site-packages (from httpcore==1.*->httpx==0.27.2) (0.14.0)\n",
      "Using cached anyio-3.7.0-py3-none-any.whl (80 kB)\n",
      "Installing collected packages: anyio\n",
      "  Attempting uninstall: anyio\n",
      "    Found existing installation: anyio 3.6.2\n",
      "    Not uninstalling anyio at /shared-libs/python3.9/py-core/lib/python3.9/site-packages, outside environment /root/venv\n",
      "    Can't uninstall 'anyio'. No files were found to uninstall.\n",
      "Successfully installed anyio-3.7.0\n"
     ]
    }
   ],
   "source": [
    "# @title #1-3 OpenAIライブラリのインストール\n",
    "# https://platform.openai.com/docs/api-reference/introduction\n",
    "!pip install openai==1.55.3 httpx==0.27.2 anyio==3.7.0"
   ]
  },
  {
   "cell_type": "markdown",
   "metadata": {
    "cell_id": "37e07ccec6f9461096795add1e261340",
    "deepnote_cell_type": "text-cell-h2",
    "formattedRanges": []
   },
   "source": [
    "## 4.アプリケーションを初期化する"
   ]
  },
  {
   "cell_type": "code",
   "execution_count": 4,
   "metadata": {
    "cell_id": "dd64da9fa7f349da918fff94b4afd183",
    "deepnote_cell_type": "code",
    "execution_context_id": "7f7c6f0d-6695-4913-80fb-e680d023b9dd",
    "execution_millis": 0,
    "execution_start": 1735748739699,
    "id": "aE9kOv0_EfsF",
    "source_hash": "edd9c654"
   },
   "outputs": [],
   "source": [
    "#@title　#4.アプリケーションを初期化する\n",
    "\n",
    "from flask import g, render_template\n",
    "\n",
    "\n",
    "# テンプレートと静的ファイルの置き場所を定数に代入\n",
    "TEMPLATE_PATH = 'flask_blog/templates'\n",
    "STATIC_PATH = 'flask_blog/static'\n",
    "# Flaskのインスタンスを作るときにそれを利用してファイルパスを設定する\n",
    "app = Flask(__name__, template_folder=TEMPLATE_PATH, static_folder=STATIC_PATH)"
   ]
  },
  {
   "cell_type": "markdown",
   "metadata": {
    "cell_id": "3a5c2933151242bbb3fff8d0a2a8c6c9",
    "deepnote_cell_type": "text-cell-h2",
    "formattedRanges": []
   },
   "source": [
    "## 5.Flask-SQLAlcyemyをアプリに設定をする"
   ]
  },
  {
   "cell_type": "code",
   "execution_count": 5,
   "metadata": {
    "cell_id": "571273338c1047dfa8aaa123994ec3a2",
    "deepnote_cell_type": "code",
    "execution_context_id": "06493cbe-cf60-4db9-aebe-bf9264d6d17d",
    "execution_millis": 964,
    "execution_start": 1735748739764,
    "id": "YEBaUCzqEhLB",
    "source_hash": "34b564b5"
   },
   "outputs": [],
   "source": [
    "#@title　#5.Flask-SQLAlcyemyをアプリに設定をする\n",
    "\n",
    "from flask_sqlalchemy import SQLAlchemy\n",
    "from sqlalchemy.orm import DeclarativeBase\n",
    "\n",
    "class Base(DeclarativeBase):\n",
    "  pass #これは何にもしないと言う意味\n",
    "\n",
    "# SQLAlchemyをインスタンス化\n",
    "db = SQLAlchemy(model_class=Base)\n",
    "\n",
    "# SQLiteデータベースをappに設定する\n",
    "app.config[\"SQLALCHEMY_DATABASE_URI\"] = \"sqlite:///sample_db.sqlite\"\n",
    "#  appを拡張とともに初期化\n",
    "db.init_app(app)"
   ]
  },
  {
   "cell_type": "markdown",
   "metadata": {
    "cell_id": "8f7ba26066514eda8f45e841672bb5de",
    "deepnote_cell_type": "text-cell-h2",
    "formattedRanges": []
   },
   "source": [
    "## 6-1. Tagモデル, Blog_Tagテーブル（中間テーブル）を作る"
   ]
  },
  {
   "cell_type": "code",
   "execution_count": 6,
   "metadata": {
    "cell_id": "6215d8966feb4b17a2abcfa33f747f01",
    "deepnote_cell_type": "code",
    "execution_context_id": "7f7c6f0d-6695-4913-80fb-e680d023b9dd",
    "execution_millis": 12,
    "execution_start": 1735748740781,
    "id": "Z12gcZosYWJY",
    "source_hash": "3c0bfdcf"
   },
   "outputs": [],
   "source": [
    "#@title　#7. Tagモデル, Blog_Tagテーブル（中間テーブル）を作る\n",
    "from __future__ import annotations\n",
    "from sqlalchemy import Table\n",
    "from sqlalchemy import ForeignKey\n",
    "from sqlalchemy import Column\n",
    "from sqlalchemy.orm import relationship\n",
    "from sqlalchemy import  DateTime, Integer, String\n",
    "from sqlalchemy.orm import Mapped, mapped_column, validates\n",
    "\n",
    "association_table = Table(\n",
    "    \"blog_tag\",\n",
    "    Base.metadata,\n",
    "    Column(\"blog_id\", ForeignKey(\"blog.id\")),\n",
    "    Column(\"tag_id\", ForeignKey(\"tag.id\")),\n",
    ")\n",
    "\n",
    "class Tag(db.Model):\n",
    "    id: Mapped[int] = mapped_column(primary_key=True)\n",
    "    name: Mapped[str] = mapped_column(nullable=False, unique=True)\n",
    "    created_at: Mapped[int] = db.Column(db.DateTime(timezone=True))\n",
    "\n",
    "    #ここにブログの関連　ああーーーーなるほど一旦整理してずにしてきます！ありがとうございます！！！これでこのあと頑張ってみます！はい！おつかれさmでしたー\n",
    "    blogs: Mapped[list[Blog]] = relationship(secondary=association_table)  #tag -> Blog\n",
    "\n",
    "    @validates(\"name\")\n",
    "    def validate_existance(self, key, value):\n",
    "        if not value:\n",
    "            raise ValueError(key)\n",
    "\n",
    "        return value\n",
    "    def to_json(self):\n",
    "        return {\n",
    "            \"id\": self.id,\n",
    "            \"name\": self.name\n",
    "        }\n",
    "\n"
   ]
  },
  {
   "cell_type": "markdown",
   "metadata": {
    "cell_id": "e58f4901eab34c398134b64c087301dd",
    "deepnote_cell_type": "text-cell-h2",
    "formattedRanges": []
   },
   "source": [
    "## 6-2. Blogモデルを作る"
   ]
  },
  {
   "cell_type": "code",
   "execution_count": 7,
   "metadata": {
    "cell_id": "11c833ae426d459fa171a877ab97ed59",
    "deepnote_cell_type": "code",
    "execution_context_id": "7f7c6f0d-6695-4913-80fb-e680d023b9dd",
    "execution_millis": 0,
    "execution_start": 1735748740841,
    "id": "R4xKYcr5FAq-",
    "source_hash": "329e4083"
   },
   "outputs": [],
   "source": [
    "#@title　#6. Blogモデルを作る\n",
    "\n",
    "class Blog(db.Model):\n",
    "    id: Mapped[int] = mapped_column(primary_key=True)\n",
    "    title: Mapped[str]  = mapped_column(nullable=False)\n",
    "    body: Mapped[str] = mapped_column(nullable=False)\n",
    "    user_name: Mapped[str] = mapped_column(nullable=False)\n",
    "    created_at: Mapped[int] = db.Column(db.DateTime(timezone=True))\n",
    "    comments = db.relationship('Comment', back_populates='blog') # blog.commentsで関係するコメントを取れる\n",
    "    tags: Mapped[list[Tag]] = relationship(secondary=association_table) #blog.tags\n",
    "\n",
    "    # https://docs.sqlalchemy.org/en/20/orm/mapped_attributes.html#simple-validators\n",
    "    @validates(\"title\", \"body\", \"user_name\")\n",
    "    def validate_existance(self, key, value):\n",
    "        if not value:\n",
    "            raise ValueError(key)\n",
    "\n",
    "        return value"
   ]
  },
  {
   "cell_type": "markdown",
   "metadata": {
    "cell_id": "f5f50c0e5cc748d996eb585257180148",
    "deepnote_cell_type": "text-cell-h2",
    "formattedRanges": []
   },
   "source": [
    "## 6-3.  Commentモデルを作る"
   ]
  },
  {
   "cell_type": "code",
   "execution_count": 8,
   "metadata": {
    "cell_id": "57e32468d8634564a144e100abef0d54",
    "deepnote_cell_type": "code",
    "execution_context_id": "7f7c6f0d-6695-4913-80fb-e680d023b9dd",
    "execution_millis": 0,
    "execution_start": 1735748740891,
    "id": "fE-8jbiH79VG",
    "source_hash": "6f719696"
   },
   "outputs": [],
   "source": [
    "#@title　#6. Commentモデルを作る\n",
    "class Comment(db.Model):\n",
    "    id: Mapped[int] = mapped_column(primary_key=True)\n",
    "    blog_id: Mapped[str]  = mapped_column(db.ForeignKey(Blog.id))\n",
    "    blog = db.relationship('Blog', back_populates='comments') # comment.blogで対象blogを取れる\n",
    "    body: Mapped[str] = mapped_column(nullable=False)\n",
    "    user_name: Mapped[str] = mapped_column(nullable=False)\n",
    "    created_at: Mapped[int] = db.Column(db.DateTime(timezone=True))\n",
    "\n",
    "    @validates(\"blog_id\", \"body\", \"user_name\")\n",
    "    def validate_existance(self, key, value):\n",
    "        if not value:\n",
    "            raise ValueError(key)\n",
    "\n",
    "        return value"
   ]
  },
  {
   "cell_type": "markdown",
   "metadata": {
    "cell_id": "da9583493c8649a89b2166f8c4bf1a13",
    "deepnote_cell_type": "text-cell-h2",
    "formattedRanges": []
   },
   "source": [
    "## 7. モデルをもとにテーブルを作成する"
   ]
  },
  {
   "cell_type": "code",
   "execution_count": 9,
   "metadata": {
    "cell_id": "2439004fc238405d9bf9f4c1563b13d9",
    "deepnote_cell_type": "code",
    "execution_context_id": "06493cbe-cf60-4db9-aebe-bf9264d6d17d",
    "execution_millis": 352,
    "execution_start": 1735748740939,
    "id": "WzyKxyK2Wupx",
    "source_hash": "91e68842"
   },
   "outputs": [],
   "source": [
    "#@title #7.モデルをもとにテーブルを作成する\n",
    "\n",
    "# アプリケーションが実行されるコンテキスト内で行うという指定のwith\n",
    "with app.app_context():\n",
    "  # db.drop_all() # 今まで作成したテーブルを一度すべて消す。6でBlogモデルに変更を加えてない場合は不要\n",
    "  #  テーブルを作成\n",
    "  db.create_all()"
   ]
  },
  {
   "cell_type": "markdown",
   "metadata": {
    "cell_id": "9fc60d17d2a44e9eb7585eea0bb75737",
    "deepnote_cell_type": "text-cell-h2",
    "formattedRanges": []
   },
   "source": [
    "## 8. タグテーブルにデータを入れる"
   ]
  },
  {
   "cell_type": "code",
   "execution_count": 10,
   "metadata": {
    "cell_id": "0dceb72d66a847b486f8970feacaabfe",
    "colab": {
     "base_uri": "https://localhost:8080/"
    },
    "deepnote_cell_type": "code",
    "execution_context_id": "06493cbe-cf60-4db9-aebe-bf9264d6d17d",
    "execution_millis": 2490,
    "execution_start": 1735748741337,
    "id": "mhSwioxMDlCu",
    "outputId": "909e7bd5-cd86-488a-dc3b-640479641fa5",
    "source_hash": "bcb2c4d0"
   },
   "outputs": [
    {
     "name": "stderr",
     "output_type": "stream",
     "text": [
      "/tmp/ipykernel_1044/2919490625.py:7: SAWarning: relationship 'Blog.tags' will copy column blog.id to column blog_tag.blog_id, which conflicts with relationship(s): 'Tag.blogs' (copies blog.id to blog_tag.blog_id). If this is not the intention, consider if these relationships should be linked with back_populates, or if viewonly=True should be applied to one or more if they are read-only. For the less common case that foreign key constraints are partially overlapping, the orm.foreign() annotation can be used to isolate the columns that should be written towards.   To silence this warning, add the parameter 'overlaps=\"blogs\"' to the 'Blog.tags' relationship. (Background on this warning at: https://sqlalche.me/e/20/qzyx) (This warning originated from the `configure_mappers()` process, which was invoked automatically in response to a user-initiated operation.)\n",
      "  tag = Tag(name=name)\n",
      "/tmp/ipykernel_1044/2919490625.py:7: SAWarning: relationship 'Blog.tags' will copy column tag.id to column blog_tag.tag_id, which conflicts with relationship(s): 'Tag.blogs' (copies tag.id to blog_tag.tag_id). If this is not the intention, consider if these relationships should be linked with back_populates, or if viewonly=True should be applied to one or more if they are read-only. For the less common case that foreign key constraints are partially overlapping, the orm.foreign() annotation can be used to isolate the columns that should be written towards.   To silence this warning, add the parameter 'overlaps=\"blogs\"' to the 'Blog.tags' relationship. (Background on this warning at: https://sqlalche.me/e/20/qzyx) (This warning originated from the `configure_mappers()` process, which was invoked automatically in response to a user-initiated operation.)\n",
      "  tag = Tag(name=name)\n"
     ]
    }
   ],
   "source": [
    "#@title #8. タグテーブルにデータを入れる\n",
    "\n",
    "from sqlalchemy import delete\n",
    "with app.app_context():\n",
    "    db.session.execute(db.delete(Tag)) # 同じデータが作られるのを防ぐために一度全部消す\n",
    "    for name in [\"日記\", \"ガラスペン\", \"文房具\"]:#なるほど\n",
    "        tag = Tag(name=name)\n",
    "        db.session.add(tag)\n",
    "        db.session.commit()"
   ]
  },
  {
   "cell_type": "markdown",
   "metadata": {
    "cell_id": "ad3a3b6cb5c04d2c9ad0f3a8f88d6030",
    "deepnote_cell_type": "text-cell-h2",
    "formattedRanges": []
   },
   "source": [
    "## 9. アプリケーションでデータを読み出す+テンプレートにデータを渡すプログラミング"
   ]
  },
  {
   "cell_type": "markdown",
   "metadata": {
    "cell_id": "8d0fd479c306441093ddd7cdbe4ab4b4",
    "deepnote_cell_type": "text-cell-h3",
    "formattedRanges": []
   },
   "source": [
    "### 9-1. ルート/, GET /blogs 一覧画面（フォーム付き）, POST /blogs データ作成機能"
   ]
  },
  {
   "cell_type": "code",
   "execution_count": 11,
   "metadata": {
    "cell_id": "3349b7718dd244119168eb53155a0948",
    "deepnote_cell_type": "code",
    "execution_context_id": "7f7c6f0d-6695-4913-80fb-e680d023b9dd",
    "execution_millis": 0,
    "execution_start": 1735748743919,
    "id": "PhXVJlAnu2Wj",
    "source_hash": "f978326a"
   },
   "outputs": [],
   "source": [
    "#@title #9-1. ルート/, GET /blogs 一覧画面（フォーム付き）, POST /blogs データ作成機能 （前回と同じ）\n",
    "\n",
    "\n",
    "from datetime import datetime, timedelta\n",
    "from zoneinfo import ZoneInfo\n",
    "from flask import g, render_template, redirect, url_for, request, flash, session\n",
    "\n",
    "#セッションを設定する\n",
    "app.secret_key = 'timestamp'\n",
    "app.permanent_session_lifetime = timedelta(days=5)\n",
    "# /（ルート）にアクセスしたら次に書く関数(home)を実行するという宣言\n",
    "@app.route(\"/\")\n",
    "def home():\n",
    "    return render_template('home.html')\n",
    "\n",
    "# /blogs にHTTPメソッドがGETでアクセスしたblog_index関数を実行する\n",
    "@app.get(\"/posts\")\n",
    "def blog_index():\n",
    "   #データベースからデータを引き出す（オブジェクトのリストの形で帰ってくる）\n",
    "    # https://msiz07-flask-docs-ja.readthedocs.io/ja/latest/patterns/sqlalchemy.html#declarative\n",
    "    blogs = Blog.query.all()\n",
    "    tags = Tag.query.all()\n",
    "    # テンプレートにblogs変数を渡す\n",
    "    return render_template('posts.html', blogs = blogs,tags =tags, blog = Blog())\n",
    "\n",
    "# /blogs にHTTPメソッドがPOSTでアクセスしたblog_create関数を実行する\n",
    "@app.post(\"/posts\")\n",
    "def blog_create():\n",
    "\n",
    "    # フォームの値を取得してバリデーションを行う\n",
    "    title = request.form[\"title\"]\n",
    "    user_name = request.form[\"user_name\"]\n",
    "    body = request.form[\"body\"]\n",
    "    blog = Blog()\n",
    "    try:\n",
    "        blog = Blog(title = title, user_name = user_name, body = body)\n",
    "        db.session.add(blog)\n",
    "        db.session.commit()\n",
    "    except ValueError as ve:\n",
    "      flash(f\"入力が不足しています#{ve}\")\n",
    "    except Exception as e:\n",
    "       flash(f\"予期せぬエラー #{e}\")\n",
    "    blogs =  Blog.query.all()\n",
    "    # blogs.htmlテンプレートを描画\n",
    "    return render_template('posts.html', blogs = blogs, blog = blog)\n"
   ]
  },
  {
   "cell_type": "markdown",
   "metadata": {
    "cell_id": "5682fb5268b74000aa18f00aa932bebf",
    "deepnote_cell_type": "text-cell-h3",
    "formattedRanges": []
   },
   "source": [
    "### 9-2 GET /blogs/:id 更新用フォーム、Post(気持ちはpatch) /blogs/:id 更新処理"
   ]
  },
  {
   "cell_type": "code",
   "execution_count": 12,
   "metadata": {
    "cell_id": "0e5e21d54bff4e619080ac0541d537ee",
    "deepnote_cell_type": "code",
    "execution_context_id": "7f7c6f0d-6695-4913-80fb-e680d023b9dd",
    "execution_millis": 0,
    "execution_start": 1735748744007,
    "id": "SD-YguXVEadJ",
    "source_hash": "17a7ab3d"
   },
   "outputs": [],
   "source": [
    "# @title 9-2 GET /blogs/:id 更新用フォーム、Post(気持ちはpatch) /blogs/:id 更新処理\n",
    "\n",
    "@app.get('/posts/<string:id>')\n",
    "def get_blog(id):\n",
    "    # 指定のidのblogオブジェクトを取得する\n",
    "    blog = db.get_or_404(Blog, id)\n",
    "    # https://flask-sqlalchemy.readthedocs.io/en/3.1.x/queries/#queries-for-views\n",
    "    return render_template('post.html', blog = blog)\n",
    "\n",
    "@app.post('/posts/<string:id>')\n",
    "def update_blog(id):\n",
    "    # 指定のidのblogオブジェクトを取得する\n",
    "    blog = db.get_or_404(Blog, id)\n",
    "\n",
    "    # 更新処理の場合\n",
    "    if request.form.get('_method') == 'PATCH':\n",
    "        try:\n",
    "            blog.title = request.form[\"title\"]\n",
    "            blog.user_name = request.form[\"user_name\"]\n",
    "            blog.body = request.form[\"body\"]\n",
    "            db.session.commit()\n",
    "            flash(\"データを更新しました\")\n",
    "        except ValueError as ve:\n",
    "            flash(f\"入力が不足しています#{ve}\")\n",
    "        except Exception as e:\n",
    "            flash(f\"予期せぬエラー #{e}\")\n",
    "        # 編集画面にGETでリダイレクトする\n",
    "        return redirect(url_for(\"get_blog\", id=id))\n",
    "    # 削除リクエストの場合\n",
    "    elif request.form.get('_method') == 'DELETE':\n",
    "        db.session.delete(blog)\n",
    "        db.session.commit()\n",
    "        # 一覧画面にGETでリダイレクトする\n",
    "        return redirect(url_for(\"blog_index\"))"
   ]
  },
  {
   "cell_type": "markdown",
   "metadata": {
    "cell_id": "ef7ea2459ae74346a40f9d0133cd78ea",
    "deepnote_cell_type": "text-cell-h3",
    "formattedRanges": []
   },
   "source": [
    "### 9-3. GET /comments 一覧画面（フォーム付き）, POST /comments データ作成機能"
   ]
  },
  {
   "cell_type": "code",
   "execution_count": 13,
   "metadata": {
    "cell_id": "2cce475e42994641a26add408cd6d373",
    "deepnote_cell_type": "code",
    "execution_context_id": "7f7c6f0d-6695-4913-80fb-e680d023b9dd",
    "execution_millis": 16,
    "execution_start": 1735748744055,
    "id": "OFG-N6hd4sxY",
    "source_hash": "c2058297"
   },
   "outputs": [],
   "source": [
    "#@title #9-3. GET /comments 一覧画面（フォーム付き）, POST /comments データ作成機能\n",
    "\n",
    "\n",
    "# /comments にHTTPメソッドがGETでアクセスしたcomment_index関数を実行する\n",
    "@app.get(\"/posts/<string:blog_id>/comments\")\n",
    "def comment_index(blog_id):\n",
    "    #データベースからデータを引き出す（オブジェクトのリストの形で帰ってくる）\n",
    "    # https://msiz07-flask-docs-ja.readthedocs.io/ja/latest/patterns/sqlalchemy.html#declarative\n",
    "    # URLで指定されたblog_idのblogオブジェクトを取得する\n",
    "    blog = db.get_or_404(Blog, blog_id)\n",
    "    # テンプレートにcomments変数を渡す\n",
    "    return render_template('comments.html', comments = blog.comments, comment = Comment()) #コメントは\n",
    "\n",
    "# /comments にHTTPメソッドがPOSTでアクセスしたcomments_create関数を実行する\n",
    "@app.post(\"/posts/<string:blog_id>/comments\")\n",
    "def comment_create(blog_id):\n",
    "    # URLで指定されたblog_idのblogオブジェクトを取得する\n",
    "    blog = db.get_or_404(Blog, blog_id)\n",
    "    # フォームの値を取得してCommentモデルのオブジェクトをつくる\n",
    "    user_name = request.form[\"user_name\"]\n",
    "    body = request.form[\"body\"]\n",
    "    try:\n",
    "        comment = Comment(blog_id = blog.id, user_name = user_name, body = body)\n",
    "        db.session.add(comment)\n",
    "        db.session.commit()\n",
    "    except ValueError as ve:\n",
    "      flash(f\"入力が不足しています#{ve}\")\n",
    "    except Exception as e:\n",
    "       flash(f\"予期せぬエラー #{e}\")\n",
    "    # blog詳細画面にリダイレクト\n",
    "    return redirect(url_for(\"get_blog\", id = blog.id))"
   ]
  },
  {
   "cell_type": "markdown",
   "metadata": {
    "cell_id": "9b00fa719a164e7d92d5e3d74dfaaba6",
    "deepnote_cell_type": "text-cell-h3",
    "formattedRanges": []
   },
   "source": [
    "### 9-4 GET /comments/:id 更新用フォーム、Post(気持ちはpatch) /comments/:id 更新処理"
   ]
  },
  {
   "cell_type": "code",
   "execution_count": 14,
   "metadata": {
    "cell_id": "fb8fd28e4b574ed5aea1f0cb3d058e42",
    "deepnote_cell_type": "code",
    "execution_context_id": "7f7c6f0d-6695-4913-80fb-e680d023b9dd",
    "execution_millis": 46,
    "execution_start": 1735748744135,
    "id": "lgrUaz3P4uDK",
    "source_hash": "ae6df214"
   },
   "outputs": [],
   "source": [
    "# @title #9-4 GET /comments/:id 更新用フォーム、Post(気持ちはpatch) /comments/:id 更新処理\n",
    "\n",
    "@app.get('/posts/<string:blog_id>/comments/<string:id>')\n",
    "def get_comment(blog_id, id):\n",
    "    # 指定のidのcommentオブジェクトを取得する　comment変数に代入\n",
    "    comment = db.get_or_404(Comment, id)\n",
    "    # https://flask-sqlalchemy.readthedocs.io/en/3.1.x/queries/#queries-for-views\n",
    "    # テンプレートにcomment変数を渡す\n",
    "    return render_template('comment.html', comment = comment)\n",
    "\n",
    "@app.post('/posts/<string:blog_id>/comments/<string:id>')\n",
    "def update_comment(blog_id, id):\n",
    "    # 指定のidのcommentオブジェクトを取得する　comment変数に代入\n",
    "    comment = db.get_or_404(Comment, id)\n",
    "\n",
    "    # 更新処理の場合\n",
    "    if request.form.get('_method') == 'PATCH':\n",
    "        try:\n",
    "             comment.user_name = request.form[\"user_name\"]\n",
    "             comment.body = request.form[\"body\"]\n",
    "             db.session.commit()\n",
    "             flash(\"データを更新しました\")\n",
    "        except ValueError as ve:\n",
    "             flash(f\"入力が不足しています#{ve}\")\n",
    "        except Exception as e:\n",
    "             flash(f\"予期せぬエラー #{e}\")\n",
    "        # 編集画面にGETでリダイレクトする\n",
    "        return redirect(url_for(\"get_comment\", blog_id=blog_id, id=id))\n",
    "    # 削除リクエストの場合\n",
    "    elif request.form.get('_method') == 'DELETE':\n",
    "        db.session.delete(comment)\n",
    "        db.session.commit()\n",
    "        # 一覧画面にGETでリダイレクトする\n",
    "        return redirect(url_for(\"get_blog\", id = blog_id))"
   ]
  },
  {
   "cell_type": "markdown",
   "metadata": {
    "cell_id": "f145005bd86b4d00b7fd0ccbb7c3a938",
    "deepnote_cell_type": "markdown",
    "id": "EhIOrf87RjS4"
   },
   "source": [
    "https://flask.palletsprojects.com/en/stable/patterns/javascript/"
   ]
  },
  {
   "cell_type": "markdown",
   "metadata": {
    "cell_id": "4f7694cbe670411a9475602d3d8a26b1",
    "deepnote_cell_type": "text-cell-h3",
    "formattedRanges": []
   },
   "source": [
    "### 9-4 Post /blogs/:id/tag フォームで送られてきたタグをブログに紐づける"
   ]
  },
  {
   "cell_type": "code",
   "execution_count": 15,
   "metadata": {
    "cell_id": "4182d58221ac4cdb889bade124d9ce5c",
    "deepnote_cell_type": "code",
    "execution_context_id": "7f7c6f0d-6695-4913-80fb-e680d023b9dd",
    "execution_millis": 0,
    "execution_start": 1735748744245,
    "id": "SoyBnFBlW4SF",
    "source_hash": "e61b587c"
   },
   "outputs": [],
   "source": [
    "# @title #9-4 Post /blogs/:id/tag フォームで送られてきたタグをブログに紐づける\n",
    "@app.post('/posts/<string:id>/tag')\n",
    "def create_tag(id):\n",
    "\n",
    "  blog = db.get_or_404(Blog, id)\n",
    "  tag_name = request.form[\"name\"]\n",
    "  tag = Tag.query.filter_by(name=tag_name).first() # nameで登録済みのタグを探す\n",
    "  if tag is None:\n",
    "    tag = Tag(name = tag_name) # もしなければTagを作る\n",
    "    db.session.add(tag)\n",
    "    db.session.commit()\n",
    "  blog.tags.append(tag)  # blogにタグを紐づける\n",
    "  db.session.commit()\n",
    "  # 確認コード例 (SQLAlchemyの場合)\n",
    "  print(blog.tags)  # データベースから取得した後、正しいタグリストが含まれているか\n",
    "\n",
    "  return redirect(url_for(\"get_blog\", id = blog.id))"
   ]
  },
  {
   "cell_type": "markdown",
   "metadata": {
    "cell_id": "8ad82fdee872443d8f04b2000cffd186",
    "deepnote_cell_type": "markdown",
    "id": "PSDnOKs02tIW"
   },
   "source": []
  },
  {
   "cell_type": "markdown",
   "metadata": {
    "cell_id": "db9ebc242bfe4baa91d2249d11db228c",
    "deepnote_cell_type": "text-cell-h2",
    "formattedRanges": []
   },
   "source": [
    "## 10.アプリケーションを立ち上げる"
   ]
  },
  {
   "cell_type": "code",
   "execution_count": 19,
   "metadata": {
    "cellView": "form",
    "cell_id": "3b35ee95d2e4420789fbbbc39925edda",
    "colab": {
     "base_uri": "https://localhost:8080/"
    },
    "deepnote_cell_type": "code",
    "execution_context_id": "06493cbe-cf60-4db9-aebe-bf9264d6d17d",
    "execution_millis": 26963224,
    "execution_start": 1735748746370,
    "id": "S4IhqcmUy8X5",
    "outputId": "9ab478b9-46d6-4994-953b-1bdd24e3b5d9",
    "source_hash": "d548fae6"
   },
   "outputs": [
    {
     "name": "stdout",
     "output_type": "stream",
     "text": [
      "ngrok URL: NgrokTunnel: \"https://046e-3-220-159-34.ngrok-free.app\" -> \"http://localhost:8000\"\n",
      " * Serving Flask app '__main__'\n",
      " * Debug mode: off\n",
      "\u001b[31m\u001b[1mWARNING: This is a development server. Do not use it in a production deployment. Use a production WSGI server instead.\u001b[0m\n",
      " * Running on http://127.0.0.1:8000\n",
      "\u001b[33mPress CTRL+C to quit\u001b[0m\n"
     ]
    }
   ],
   "source": [
    "#@title #10.アプリケーションを立ち上げる\n",
    "\n",
    "if __name__ == \"__main__\":\n",
    "    public_url = ngrok.connect(8000)\n",
    "    print(f\"ngrok URL: {public_url}\")\n",
    "    app.run(port=8000)"
   ]
  },
  {
   "cell_type": "markdown",
   "metadata": {
    "created_in_deepnote_cell": true,
    "deepnote_cell_type": "markdown"
   },
   "source": [
    "<a style='text-decoration:none;line-height:16px;display:flex;color:#5B5B62;padding:10px;justify-content:end;' href='https://deepnote.com?utm_source=created-in-deepnote-cell&projectId=5456fa35-ea0f-4cee-9aed-01d78c91284d' target=\"_blank\">\n",
    "<img alt='Created in deepnote.com' style='display:inline;max-height:16px;margin:0px;margin-right:7.5px;' src='data:image/svg+xml;base64,PD94bWwgdmVyc2lvbj0iMS4wIiBlbmNvZGluZz0iVVRGLTgiPz4KPHN2ZyB3aWR0aD0iODBweCIgaGVpZ2h0PSI4MHB4IiB2aWV3Qm94PSIwIDAgODAgODAiIHZlcnNpb249IjEuMSIgeG1sbnM9Imh0dHA6Ly93d3cudzMub3JnLzIwMDAvc3ZnIiB4bWxuczp4bGluaz0iaHR0cDovL3d3dy53My5vcmcvMTk5OS94bGluayI+CiAgICA8IS0tIEdlbmVyYXRvcjogU2tldGNoIDU0LjEgKDc2NDkwKSAtIGh0dHBzOi8vc2tldGNoYXBwLmNvbSAtLT4KICAgIDx0aXRsZT5Hcm91cCAzPC90aXRsZT4KICAgIDxkZXNjPkNyZWF0ZWQgd2l0aCBTa2V0Y2guPC9kZXNjPgogICAgPGcgaWQ9IkxhbmRpbmciIHN0cm9rZT0ibm9uZSIgc3Ryb2tlLXdpZHRoPSIxIiBmaWxsPSJub25lIiBmaWxsLXJ1bGU9ImV2ZW5vZGQiPgogICAgICAgIDxnIGlkPSJBcnRib2FyZCIgdHJhbnNmb3JtPSJ0cmFuc2xhdGUoLTEyMzUuMDAwMDAwLCAtNzkuMDAwMDAwKSI+CiAgICAgICAgICAgIDxnIGlkPSJHcm91cC0zIiB0cmFuc2Zvcm09InRyYW5zbGF0ZSgxMjM1LjAwMDAwMCwgNzkuMDAwMDAwKSI+CiAgICAgICAgICAgICAgICA8cG9seWdvbiBpZD0iUGF0aC0yMCIgZmlsbD0iIzAyNjVCNCIgcG9pbnRzPSIyLjM3NjIzNzYyIDgwIDM4LjA0NzY2NjcgODAgNTcuODIxNzgyMiA3My44MDU3NTkyIDU3LjgyMTc4MjIgMzIuNzU5MjczOSAzOS4xNDAyMjc4IDMxLjY4MzE2ODMiPjwvcG9seWdvbj4KICAgICAgICAgICAgICAgIDxwYXRoIGQ9Ik0zNS4wMDc3MTgsODAgQzQyLjkwNjIwMDcsNzYuNDU0OTM1OCA0Ny41NjQ5MTY3LDcxLjU0MjI2NzEgNDguOTgzODY2LDY1LjI2MTk5MzkgQzUxLjExMjI4OTksNTUuODQxNTg0MiA0MS42NzcxNzk1LDQ5LjIxMjIyODQgMjUuNjIzOTg0Niw0OS4yMTIyMjg0IEMyNS40ODQ5Mjg5LDQ5LjEyNjg0NDggMjkuODI2MTI5Niw0My4yODM4MjQ4IDM4LjY0NzU4NjksMzEuNjgzMTY4MyBMNzIuODcxMjg3MSwzMi41NTQ0MjUgTDY1LjI4MDk3Myw2Ny42NzYzNDIxIEw1MS4xMTIyODk5LDc3LjM3NjE0NCBMMzUuMDA3NzE4LDgwIFoiIGlkPSJQYXRoLTIyIiBmaWxsPSIjMDAyODY4Ij48L3BhdGg+CiAgICAgICAgICAgICAgICA8cGF0aCBkPSJNMCwzNy43MzA0NDA1IEwyNy4xMTQ1MzcsMC4yNTcxMTE0MzYgQzYyLjM3MTUxMjMsLTEuOTkwNzE3MDEgODAsMTAuNTAwMzkyNyA4MCwzNy43MzA0NDA1IEM4MCw2NC45NjA0ODgyIDY0Ljc3NjUwMzgsNzkuMDUwMzQxNCAzNC4zMjk1MTEzLDgwIEM0Ny4wNTUzNDg5LDc3LjU2NzA4MDggNTMuNDE4MjY3Nyw3MC4zMTM2MTAzIDUzLjQxODI2NzcsNTguMjM5NTg4NSBDNTMuNDE4MjY3Nyw0MC4xMjg1NTU3IDM2LjMwMzk1NDQsMzcuNzMwNDQwNSAyNS4yMjc0MTcsMzcuNzMwNDQwNSBDMTcuODQzMDU4NiwzNy43MzA0NDA1IDkuNDMzOTE5NjYsMzcuNzMwNDQwNSAwLDM3LjczMDQ0MDUgWiIgaWQ9IlBhdGgtMTkiIGZpbGw9IiMzNzkzRUYiPjwvcGF0aD4KICAgICAgICAgICAgPC9nPgogICAgICAgIDwvZz4KICAgIDwvZz4KPC9zdmc+' > </img>\n",
    "Created in <span style='font-weight:600;margin-left:4px;'>Deepnote</span></a>"
   ]
  }
 ],
 "metadata": {
  "deepnote_app_layout": "powerful-article",
  "deepnote_app_reactivity_enabled": true,
  "deepnote_notebook_id": "63693b16a13e4ac59b227504b0ddd602",
  "language_info": {
   "name": "python"
  }
 },
 "nbformat": 4,
 "nbformat_minor": 0
}
